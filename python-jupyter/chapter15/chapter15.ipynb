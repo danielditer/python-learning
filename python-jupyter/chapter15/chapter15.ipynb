{
 "cells": [
  {
   "cell_type": "code",
   "id": "initial_id",
   "metadata": {
    "collapsed": true,
    "ExecuteTime": {
     "end_time": "2024-05-03T21:18:18.740551Z",
     "start_time": "2024-05-03T21:18:18.732972Z"
    }
   },
   "source": [
    "# 1. For each of the following scenarios, create code similar to that presented in this chapter:\n",
    "# a. Tossing a coin. What are the possibilities when tossing a coin? Write them in a list. Then,\n",
    "# toss the coin, once using .randint() and once using .choice(). What do you get?\n",
    "import random\n",
    "\n",
    "tossing_coin_possibilities = [\"heads\",\"tails\"]\n",
    "\n",
    "randint_option = tossing_coin_possibilities[random.randint(0, len(tossing_coin_possibilities)  - 1)]\n",
    "choice_option = random.choice(tossing_coin_possibilities)\n",
    "\n",
    "print(f\"Tossing the coin with randint: {randint_option}\")\n",
    "print(f\"Tossing the coin with choice: {choice_option}\")\n",
    "\n",
    "# b. Rolling dice. What are the possibilities when rolling a die? Write them in a list. Then, roll the\n",
    "# die, once using .randint() and once using .choice(). What numbers do you get? Finally,\n",
    "# choose one method and roll the die three times. What numbers do you get?\n",
    "\n",
    "print(\"\\nb. Rolling dice.\")\n",
    "\n",
    "rolling_die_possibilities = [1,2,3,4,5,6]\n",
    "\n",
    "rolling_die_randint = rolling_die_possibilities[random.randint(0, len(rolling_die_possibilities) - 1)]\n",
    "rolling_die_choice = random.choice(rolling_die_possibilities)\n",
    "\n",
    "print(f\"\\t- Rolling dice with randint: {rolling_die_randint}\")\n",
    "print(f\"\\t- Rolling dice with choice: {rolling_die_choice}\")\n",
    "\n",
    "rolling_die_random = []\n",
    "\n",
    "for i in range(3):\n",
    "    rolling_die_random.append(rolling_die_possibilities[random.randint(0, len(rolling_die_possibilities) - 1)])\n",
    "    \n",
    "print(f\"\\t- The numbers are: {rolling_die_random}\")\n",
    "\n"
   ],
   "outputs": [
    {
     "name": "stdout",
     "output_type": "stream",
     "text": [
      "Tossing the coin with randint: tails\n",
      "Tossing the coin with choice: heads\n",
      "\n",
      "b. Rolling dice.\n",
      "\t- Rolling dice with randint: 4\n",
      "\t- Rolling dice with choice: 4\n",
      "\t- The numbers are: [2, 2, 2]\n"
     ]
    }
   ],
   "execution_count": 26
  },
  {
   "metadata": {
    "ExecuteTime": {
     "end_time": "2024-05-03T21:18:13.273717Z",
     "start_time": "2024-05-03T21:18:13.259091Z"
    }
   },
   "cell_type": "code",
   "source": [
    "import random\n",
    "\n",
    "#2. Ten random numbers. Create a list of 10 random numbers between 0 and 100 using a for loop.\n",
    "\n",
    "random_numbers = []\n",
    "\n",
    "for i in range(10):\n",
    "    random_numbers.append(random.randint(1, 100))\n",
    "print(f\"The 10 random numbers are: {random_numbers}\")"
   ],
   "id": "657917b7e5a53206",
   "outputs": [
    {
     "name": "stdout",
     "output_type": "stream",
     "text": [
      "The 10 random numbers are: [95, 86, 44, 62, 8, 49, 68, 37, 99, 43]\n"
     ]
    }
   ],
   "execution_count": 24
  },
  {
   "metadata": {
    "ExecuteTime": {
     "end_time": "2024-05-03T21:16:57.285655Z",
     "start_time": "2024-05-03T21:16:57.277958Z"
    }
   },
   "cell_type": "code",
   "source": [
    "# 3. Unique random numbers multiple of a number. Create a list of 100 random numbers between 5\n",
    "# and 60. Divide them into two lists depending on whether they are a multiple of 4 or not. Then,\n",
    "# create another list called unique, where you add unique multiples of 4 from the previous list. This\n",
    "# means that, for example, that if 42 is present more than once, it will appear only once in unique.\n",
    "# If the number is already present in unique, print out a sentence like: The number x is already in\n",
    "# unique. How many unique multiples of 4 could you generate randomly?\n",
    "import random\n",
    "\n",
    "multiple_of_four_random_numbers = []\n",
    "other_numbers = []\n",
    "random_numbers = []\n",
    "unique = []\n",
    "\n",
    "def is_in_the_list(number,  list):\n",
    "    for item in list:\n",
    "        if item == number:\n",
    "            return True\n",
    "\n",
    "for i in range(100):\n",
    "    random_numbers.append(random.randint(5, 60))\n",
    "    if random_numbers[i] % 4 == 0:\n",
    "        multiple_of_four_random_numbers.append(random_numbers[i])\n",
    "        if is_in_the_list(random_numbers[i], unique):\n",
    "            print(f\"The number {random_numbers[i]} is already in unique\")\n",
    "        else:\n",
    "            unique.append(random_numbers[i])     \n",
    "    else:\n",
    "        other_numbers.append(random_numbers[i])\n",
    "\n",
    "print(f\"\\nThe multiple of 4 are are: {multiple_of_four_random_numbers}\")\n",
    "print(f\"\\nThere are {len(unique)} multiples of 4: {unique}\")"
   ],
   "id": "59c65c58d9f120c4",
   "outputs": [
    {
     "name": "stdout",
     "output_type": "stream",
     "text": [
      "The number 20 is already in unique\n",
      "The number 52 is already in unique\n",
      "The number 44 is already in unique\n",
      "The number 52 is already in unique\n",
      "The number 52 is already in unique\n",
      "The number 12 is already in unique\n",
      "The number 40 is already in unique\n",
      "The number 60 is already in unique\n",
      "The number 36 is already in unique\n",
      "The number 8 is already in unique\n",
      "The number 12 is already in unique\n",
      "The number 44 is already in unique\n",
      "The number 36 is already in unique\n",
      "\n",
      "The multiple of 4 are are: [28, 20, 56, 52, 40, 60, 12, 44, 20, 52, 44, 52, 32, 52, 12, 40, 8, 60, 36, 36, 8, 12, 44, 36]\n",
      "\n",
      "There are 11 multiples of 4: [28, 20, 56, 52, 40, 60, 12, 44, 32, 8, 36]\n"
     ]
    }
   ],
   "execution_count": 13
  },
  {
   "metadata": {
    "ExecuteTime": {
     "end_time": "2024-05-03T04:16:18.382638Z",
     "start_time": "2024-05-03T04:16:18.373635Z"
    }
   },
   "cell_type": "code",
   "source": [
    "# 4. Playing with prime numbers. Create a list of 150 random numbers between 50 and 100, and divide\n",
    "# them into lists depending on whether they are multiple of the prime numbers 2, 3, 5, or 7 (a\n",
    "# number can be added to more than one lists if it is multiple of several prime numbers). Then, sum\n",
    "# up all the elements for each list separately (do not use built‐in functions you might find online).\n",
    "# Is each sum a multiple of the original prime number? That is, is the sum of all the multiples of 3\n",
    "# a multiple of 3 itself?\n",
    "\n",
    "random_numbers = []\n",
    "multiples_of_two = []\n",
    "multiples_of_three = []\n",
    "multiples_of_five = []\n",
    "multiples_of_seven = []\n",
    "\n",
    "for i in range(150):\n",
    "    random_numbers.append(random.randint(50, 100))\n",
    "    if random_numbers[i] % 2 == 0:\n",
    "        multiples_of_two.append(random_numbers[i])\n",
    "    if random_numbers[i] % 3 == 0:\n",
    "        multiples_of_three.append(random_numbers[i])\n",
    "    if random_numbers[i] % 5 == 0:\n",
    "        multiples_of_five.append(random_numbers[i])\n",
    "    if random_numbers[i] % 7 == 0:\n",
    "        multiples_of_seven.append(random_numbers[i])\n",
    "        \n",
    "def sum_list(list):\n",
    "    sum = 0\n",
    "    for item in list:\n",
    "        sum += item\n",
    "    return sum\n",
    "\n",
    "sum_of_multiples_of_two = sum_list(multiples_of_two)\n",
    "sum_of_multiples_of_three = sum_list(multiples_of_three)\n",
    "sum_of_multiples_of_five = sum_list(multiples_of_five)\n",
    "sum_of_multiples_of_seven = sum_list(multiples_of_seven)\n",
    "\n",
    "multiples_dict = {\n",
    "    2: multiples_of_two,\n",
    "    3: multiples_of_three,\n",
    "    5: multiples_of_five,\n",
    "    7: multiples_of_seven\n",
    "}\n",
    "\n",
    "for k,v in multiples_dict.items():\n",
    "    print(f\"\\nThe list of multiples of {k} is: {v}\")\n",
    "\n",
    "sum_dict = {\n",
    "    2: sum_of_multiples_of_two,\n",
    "    3: sum_of_multiples_of_three,\n",
    "    5: sum_of_multiples_of_five,\n",
    "    7: sum_of_multiples_of_seven\n",
    "}\n",
    "\n",
    "for k,v in sum_dict.items():\n",
    "    print(f\"\\nThe sum of multiples of {k} is: {v}\")\n",
    "\n"
   ],
   "id": "fb83ddc2e284f313",
   "outputs": [
    {
     "name": "stdout",
     "output_type": "stream",
     "text": [
      "\n",
      "The list of multiples of 2 is: [74, 74, 88, 92, 96, 86, 90, 54, 50, 98, 56, 68, 94, 52, 82, 100, 76, 78, 78, 78, 84, 80, 90, 62, 74, 94, 84, 100, 56, 52, 68, 92, 98, 82, 66, 50, 96, 66, 86, 56, 92, 74, 82, 90, 54, 100, 60, 84, 56, 74, 88, 74, 74, 94, 80, 56, 66, 76, 74, 80, 98, 54, 98, 94, 100, 72, 92, 50, 68, 50, 86, 92, 80, 58, 74]\n",
      "\n",
      "The list of multiples of 3 is: [93, 87, 51, 96, 90, 54, 51, 57, 78, 78, 69, 78, 51, 63, 84, 87, 69, 90, 57, 84, 57, 66, 99, 63, 96, 66, 69, 99, 90, 54, 93, 60, 84, 81, 69, 87, 99, 66, 75, 63, 81, 87, 54, 51, 72, 87, 69, 51]\n",
      "\n",
      "The list of multiples of 5 is: [90, 85, 50, 95, 100, 80, 90, 100, 85, 65, 50, 65, 65, 65, 90, 100, 60, 80, 85, 80, 75, 85, 100, 50, 50, 55, 80]\n",
      "\n",
      "The list of multiples of 7 is: [91, 98, 56, 63, 84, 84, 56, 98, 63, 91, 56, 91, 84, 56, 56, 63, 98, 98]\n",
      "\n",
      "The sum of multiples of 2 is: 5794\n",
      "\n",
      "The sum of multiples of 3 is: 3555\n",
      "\n",
      "The sum of multiples of 5 is: 2075\n",
      "\n",
      "The sum of multiples of 7 is: 1386\n"
     ]
    }
   ],
   "execution_count": 28
  },
  {
   "metadata": {},
   "cell_type": "code",
   "outputs": [],
   "execution_count": null,
   "source": "",
   "id": "e4626d86125f8dae"
  }
 ],
 "metadata": {
  "kernelspec": {
   "display_name": "Python 3",
   "language": "python",
   "name": "python3"
  },
  "language_info": {
   "codemirror_mode": {
    "name": "ipython",
    "version": 2
   },
   "file_extension": ".py",
   "mimetype": "text/x-python",
   "name": "python",
   "nbconvert_exporter": "python",
   "pygments_lexer": "ipython2",
   "version": "2.7.6"
  }
 },
 "nbformat": 4,
 "nbformat_minor": 5
}
