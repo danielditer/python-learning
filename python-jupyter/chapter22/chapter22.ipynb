{
 "cells": [
  {
   "cell_type": "code",
   "id": "initial_id",
   "metadata": {
    "collapsed": true,
    "ExecuteTime": {
     "end_time": "2024-05-05T21:54:32.499596Z",
     "start_time": "2024-05-05T21:54:32.493008Z"
    }
   },
   "source": [
    "# 1. All you can eat. These friends are at an all‐you‐can‐eat restaurant:\n",
    "# friends = [\"Geetha\", \"Huanxiang\", \"Megan\", \"Pedro\"]\n",
    "# This is the finger food at the buffet: food = [\"sushi\", \"nachos\", \"samosa\", \"cheese\"]\n",
    "# Each person tries each type of finger food. Print out sentences like:\n",
    "# Geetha eats sushi\n",
    "# Geetha eats nachos\n",
    "# ...\n",
    "# for all the friends (a) using nested for loops through indices, and (b) using nested for loops through\n",
    "# elements.\n",
    "\n",
    "friends = [\"Geetha\", \"Huanxiang\", \"Megan\", \"Pedro\"]\n",
    "food = [\"sushi\", \"nachos\", \"samosa\", \"cheese\"]\n",
    "\n",
    "print(\"(a) using nested for loops through indices\")\n",
    "\n",
    "for i in range(len(friends)):\n",
    "    for j in range(len(food)):\n",
    "        print(f\"{friends[i]} eats {food[j]}\")\n",
    "    print(\"\\n\")\n",
    "\n",
    "print(\"(b) using nested for loops through\")\n",
    "\n",
    "for person in friends:\n",
    "    for f in food:\n",
    "        print(f\"{person} eats {f}\")\n",
    "    print(\"\\n\")"
   ],
   "outputs": [
    {
     "name": "stdout",
     "output_type": "stream",
     "text": [
      "(a) using nested for loops through indices\n",
      "Geetha eats sushi\n",
      "Geetha eats nachos\n",
      "Geetha eats samosa\n",
      "Geetha eats cheese\n",
      "\n",
      "\n",
      "Huanxiang eats sushi\n",
      "Huanxiang eats nachos\n",
      "Huanxiang eats samosa\n",
      "Huanxiang eats cheese\n",
      "\n",
      "\n",
      "Megan eats sushi\n",
      "Megan eats nachos\n",
      "Megan eats samosa\n",
      "Megan eats cheese\n",
      "\n",
      "\n",
      "Pedro eats sushi\n",
      "Pedro eats nachos\n",
      "Pedro eats samosa\n",
      "Pedro eats cheese\n",
      "\n",
      "\n",
      "(b) using nested for loops through\n",
      "Geetha eats sushi\n",
      "Geetha eats nachos\n",
      "Geetha eats samosa\n",
      "Geetha eats cheese\n",
      "\n",
      "\n",
      "Huanxiang eats sushi\n",
      "Huanxiang eats nachos\n",
      "Huanxiang eats samosa\n",
      "Huanxiang eats cheese\n",
      "\n",
      "\n",
      "Megan eats sushi\n",
      "Megan eats nachos\n",
      "Megan eats samosa\n",
      "Megan eats cheese\n",
      "\n",
      "\n",
      "Pedro eats sushi\n",
      "Pedro eats nachos\n",
      "Pedro eats samosa\n",
      "Pedro eats cheese\n",
      "\n",
      "\n"
     ]
    }
   ],
   "execution_count": 4
  },
  {
   "metadata": {
    "ExecuteTime": {
     "end_time": "2024-05-05T22:08:17.514360Z",
     "start_time": "2024-05-05T22:08:17.508113Z"
    }
   },
   "cell_type": "code",
   "source": [
    "# 2. Playing kids. At kindergarten, kids are playing a game where they have to pair up with another\n",
    "# kid every time the teacher rings a bell. Eventually, every kid will pair up with all the other kids.\n",
    "# Given this list of kids:\n",
    "# kids = [\"Paul\", \"Juhee\", \"Luca\", \"Maria\"]\n",
    "# a) Print out all the possible combinations starting from the first kid, that is:\n",
    "# Paul plays with Juhee\n",
    "# Paul plays with Luca\n",
    "# Paul plays with Maria\n",
    "# Juhee plays with Luca\n",
    "# Juhee plays with Maria\n",
    "# Luca plays with Maria\n",
    "# b) Print all the possible combinations starting from the last kid (Maria).\n",
    "\n",
    "kids = [\"Paul\", \"Juhee\", \"Luca\", \"Maria\"]\n",
    "\n",
    "for i in range(len(kids)):\n",
    "    for j in range(len(kids)):\n",
    "        if i != j:\n",
    "            print(f\"{kids[i]} plays with {kids[j]}\")\n",
    "    print(\"\\n\")"
   ],
   "id": "6df59db00ab4f691",
   "outputs": [
    {
     "name": "stdout",
     "output_type": "stream",
     "text": [
      "Paul plays with Juhee\n",
      "Paul plays with Luca\n",
      "Paul plays with Maria\n",
      "\n",
      "\n",
      "Juhee plays with Paul\n",
      "Juhee plays with Luca\n",
      "Juhee plays with Maria\n",
      "\n",
      "\n",
      "Luca plays with Paul\n",
      "Luca plays with Juhee\n",
      "Luca plays with Maria\n",
      "\n",
      "\n",
      "Maria plays with Paul\n",
      "Maria plays with Juhee\n",
      "Maria plays with Luca\n",
      "\n",
      "\n"
     ]
    }
   ],
   "execution_count": 15
  },
  {
   "metadata": {
    "ExecuteTime": {
     "end_time": "2024-05-06T01:05:50.205225Z",
     "start_time": "2024-05-06T01:05:50.198306Z"
    }
   },
   "cell_type": "code",
   "source": [
    "# 3. Cities of the world. Given the following list cities:\n",
    "# cities = [\"Bogota\", \"Riga\", \"Kinshasa\", \"Damascus\", \"New Delhi\", \"Auckland\"]\n",
    "\n",
    "cities = [\"Bogota\", \"Riga\", \"Kinshasa\", \"Damascus\", \"New Delhi\", \"Auckland\"]\n",
    "\n",
    "# a) Using a for loop through indices, create a new list containing city names with more than 7\n",
    "# characters and change them to upper case.\n",
    "\n",
    "cities_seven_chars = []\n",
    "\n",
    "for city in cities:\n",
    "    if len(city) > 7:\n",
    "        cities_seven_chars.append(city.upper())\n",
    "        \n",
    "print(f\"a. The cities with more than 7 characters in upper cases are: {cities_seven_chars}\")\n",
    "    \n",
    "# b) Using a for loop through elements, create a new list containing initials of cities with a number\n",
    "# of characters between 7 and 10.\n",
    "\n",
    "initials_of_cities_between_seven_and_ten = []\n",
    "\n",
    "for city in cities:\n",
    "    if 7 <= len(city) <= 10:\n",
    "        initials_of_cities_between_seven_and_ten.append(city[0])\n",
    "        \n",
    "print(f\"b. The list of initial of cities with a number of characters are between 7 and 10 are: {initials_of_cities_between_seven_and_ten}\")\n",
    "\n",
    "# c) Using a for loop through indices and elements, print out each element in lower case and its\n",
    "# position:\n",
    "\n",
    "print(\"c.\")\n",
    "\n",
    "for i in range(len(cities)):\n",
    "    print(f\"\\tThe city {cities[i].lower()} is in the index {i}\")\n",
    "# d) Using a list comprehension, create a new list containing the city names with less than 7 characters\n",
    "# and change them to lower case.\n",
    "\n",
    "city_names_less_than_7_characters = []\n",
    "\n",
    "city_names_less_than_7_characters = [city.lower() for city in cities if len(city) < 7]\n",
    "\n",
    "print(f\"d. list containing the city names with less than 7 characters is: {city_names_less_than_7_characters}\")\n"
   ],
   "id": "6152ac7887ebbba9",
   "outputs": [
    {
     "name": "stdout",
     "output_type": "stream",
     "text": [
      "a. The cities with more than 7 characters in upper cases are: ['KINSHASA', 'DAMASCUS', 'NEW DELHI', 'AUCKLAND']\n",
      "b. The list of initial of cities with a number of characters are between 7 and 10 are: ['K', 'D', 'N', 'A']\n",
      "c.\n",
      "\tThe city bogota is in the index 0\n",
      "\tThe city riga is in the index 1\n",
      "\tThe city kinshasa is in the index 2\n",
      "\tThe city damascus is in the index 3\n",
      "\tThe city new delhi is in the index 4\n",
      "\tThe city auckland is in the index 5\n",
      "d. list containing the city names with less than 7 characters is: ['bogota', 'riga']\n"
     ]
    }
   ],
   "execution_count": 26
  },
  {
   "metadata": {
    "ExecuteTime": {
     "end_time": "2024-05-06T00:42:59.348030Z",
     "start_time": "2024-05-06T00:42:59.343953Z"
    }
   },
   "cell_type": "code",
   "source": [
    "# 4. Learning to count. Print consecutive numbers from 10 to 29 using a nested for loop. The outer\n",
    "# for loop will print the first digit, whereas the inner for loop will print out the second digit, such\n",
    "# as:\n",
    "# 10\n",
    "# 11\n",
    "# 12\n",
    "# ...\n",
    "# 29\n",
    "\n",
    "for i in range(1,3):\n",
    "    first_digit = str(i)\n",
    "    for j in range(0,10):\n",
    "        second_digit = str(j)\n",
    "        first_digit+=second_digit\n",
    "        print(f\"{first_digit}\")\n",
    "        first_digit = str(i)\n",
    "        second_digit = \"\""
   ],
   "id": "dbc3c0ba5f5aae7d",
   "outputs": [
    {
     "name": "stdout",
     "output_type": "stream",
     "text": [
      "10\n",
      "11\n",
      "12\n",
      "13\n",
      "14\n",
      "15\n",
      "16\n",
      "17\n",
      "18\n",
      "19\n",
      "20\n",
      "21\n",
      "22\n",
      "23\n",
      "24\n",
      "25\n",
      "26\n",
      "27\n",
      "28\n",
      "29\n"
     ]
    }
   ],
   "execution_count": 18
  },
  {
   "metadata": {
    "ExecuteTime": {
     "end_time": "2024-05-06T01:17:50.073229Z",
     "start_time": "2024-05-06T01:17:50.070103Z"
    }
   },
   "cell_type": "code",
   "source": [
    "# 5. Triangle of numbers. Ask a user for a number. Then print a triangle of numbers where the maximum\n",
    "# row is the queried number. For example:\n",
    "# Input: 5\n",
    "# Output:\n",
    "# 1\n",
    "# 2 2\n",
    "# 3 3 3\n",
    "# 4 4 4 4\n",
    "# 5 5 5 5 5\n",
    "# Hint: Consider using the parameter end in the print() function. Look for examples on how to\n",
    "# use end online."
   ],
   "id": "658e9563688298d5",
   "outputs": [],
   "execution_count": 27
  },
  {
   "metadata": {
    "ExecuteTime": {
     "end_time": "2024-05-06T02:47:11.702377Z",
     "start_time": "2024-05-06T02:47:09.381313Z"
    }
   },
   "cell_type": "code",
   "source": [
    "number = input(\"Enter a number:\")\n",
    "number = int(number)\n",
    "\n",
    "result = \"\"\n",
    "\n",
    "for i in range(1,number+1):\n",
    "    for j in range(1,i+1):\n",
    "        result += str(i)+\" \"\n",
    "    print(f\"{result}\")\n",
    "    result = \"\""
   ],
   "id": "5b0627a14e1779df",
   "outputs": [
    {
     "name": "stdout",
     "output_type": "stream",
     "text": [
      "1  \n",
      "2 2  \n",
      "3 3 3  \n",
      "4 4 4 4  \n"
     ]
    }
   ],
   "execution_count": 42
  }
 ],
 "metadata": {
  "kernelspec": {
   "display_name": "Python 3",
   "language": "python",
   "name": "python3"
  },
  "language_info": {
   "codemirror_mode": {
    "name": "ipython",
    "version": 2
   },
   "file_extension": ".py",
   "mimetype": "text/x-python",
   "name": "python",
   "nbconvert_exporter": "python",
   "pygments_lexer": "ipython2",
   "version": "2.7.6"
  }
 },
 "nbformat": 4,
 "nbformat_minor": 5
}
