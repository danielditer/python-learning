{
 "cells": [
  {
   "cell_type": "code",
   "id": "initial_id",
   "metadata": {
    "collapsed": true,
    "ExecuteTime": {
     "end_time": "2024-04-24T00:58:53.116024Z",
     "start_time": "2024-04-24T00:58:50.562069Z"
    }
   },
   "source": [
    "import math\n",
    "\n",
    "# 1. Math competition. You are holding a math competition where participants have to choose among\n",
    "# three envelopes and solve the arithmetic operation contained in the chosen envelope:\n",
    "# • If the participant chooses envelope 1, she will have to solve: (3 × 52 ÷ 15)−(5−22)\n",
    "# • If the participant chooses envelope 2, she will have to solve: −1 × [(3−4 × 7) ÷ 5]−23 × 24 ÷ 6\n",
    "# • If the participant chooses envelop 3, she will have to solve: (36−3)×4\n",
    "# (15−9)÷3\n",
    "# Compute the solutions.\n",
    "\n",
    "\n",
    "\n",
    "while True:\n",
    "    print(\"\\nMenu:\")\n",
    "    print(\"1. Envelope 1\")\n",
    "    print(\"2. Envelope 2\")\n",
    "    print(\"3. Envelope 3\")\n",
    "    print(\"4. Exit\")\n",
    "    \n",
    "    option = input('Enter a number between 1 and 4: ')\n",
    "\n",
    "    option = int(option)\n",
    "    \n",
    "    if option == 1:\n",
    "        print(f\"You entered {option}. The solution is {(3 * 52 / 15) - (5 - 22)}\")\n",
    "    elif option == 2:\n",
    "        print(f\"You entered {option}. The solution is {-1 * ((3 - 4 * 7) / 5) - math.pow(2, 3) * 24 / 6}\")\n",
    "    elif option == 3:\n",
    "        print(f\"You entered {option}. The solution is {((36-3)*4)/((15-9)/3)}\")\n",
    "    elif option == 4:\n",
    "        print(\"Exiting the program. Thank you.\")\n",
    "        break\n",
    "        "
   ],
   "outputs": [
    {
     "name": "stdout",
     "output_type": "stream",
     "text": [
      "\n",
      "Menu:\n",
      "1. Envelope 1\n",
      "2. Envelope 2\n",
      "3. Envelope 3\n",
      "4. Exit\n",
      "Exiting the program. Thank you.\n"
     ]
    }
   ],
   "execution_count": 13
  },
  {
   "metadata": {},
   "cell_type": "code",
   "source": [
    "import math\n",
    "\n",
    "# 2. Geometry tutoring. You are helping your neighbor’s kid with some geometry exercises. He has\n",
    "# to calculate the area and volume of a cylinder, and you want to test result correctness using\n",
    "# Python. Ask the kid for cylinder radius and height. Then calculate area and volume of a cylinder\n",
    "# using these formulas: area = 2πr2 + 2πrh and volume = πr2h. Hint: What is the value of π?\n",
    "# Assign it to a variable!\n",
    "# He also has to calculate surface and area of a cube of edge length a = 4. He does not have the\n",
    "# right formulas, so you look for them on the internet. Write code to test whether his calculations\n",
    "# are correct.\n",
    "\n",
    "radius = input(\"Enter a radius: \")\n",
    "height = input(\"Enter a height: \")\n",
    "\n",
    "radius = int(radius)\n",
    "height = int(height)\n",
    "\n",
    "pi = math.pi\n",
    "\n",
    "area = 2*pi*math.pow(radius,2) + 2*math.pi*radius*height\n",
    "\n",
    "volume = math.pi*radius*height*height\n",
    "\n",
    "cube_surface_area = 6*math.pow(4,2)\n",
    "\n",
    "print(f\"The area of a cylinder is {area}\")\n",
    "print(f\"The volume of a cylinder is {volume}\")\n",
    "\n",
    "print(f\"The area of the cube is {cube_surface_area}\")\n"
   ],
   "id": "e1104736200483b5",
   "outputs": [],
   "execution_count": null
  },
  {
   "metadata": {
    "ExecuteTime": {
     "end_time": "2024-04-23T17:19:48.545467Z",
     "start_time": "2024-04-23T17:18:46.965058Z"
    }
   },
   "cell_type": "code",
   "source": [
    "# 3. What’s the temperature out there? You are traveling between Europe and North America, and you\n",
    "# need to pack the right clothes. Write a temperature converter, knowing that the relation between\n",
    "# Celsius and Fahrenheit degrees is C = 5 ÷ 9 × (F − 32). Answer these two questions:\n",
    "# a. The temperature in Miami is 75◦F. What is the temperature in Celsius?\n",
    "# b. The temperature in Lisbon is 17◦C. What is the temperature in Fahrenheit?\n",
    "\n",
    "\n",
    "\n",
    "while True:\n",
    "    print(\"**** Temperature Converter ****\")\n",
    "    print(\"1. Fahrenheit to Celsius \")\n",
    "    print(\"2. Celsius to Fahrenheit \")\n",
    "    \n",
    "    option = input(\"Choose an option: \")\n",
    "    \n",
    "    while True:\n",
    "        try:\n",
    "            option = int(option)\n",
    "            break\n",
    "        except ValueError:\n",
    "            print(\"Please enter an integer\")\n",
    "            option = input(\"Choose an option: \")\n",
    "    \n",
    "    if option == 1:\n",
    "        temperature = input(\"Enter a temperature in Fahrenheit degrees: \")\n",
    "        temperature = float(temperature)\n",
    "        c = 5/9 * (temperature - 32) \n",
    "        print(f\"The temperature is {round(c, 2)} degrees Celsius\\n\")\n",
    "    elif option == 2 :\n",
    "        temperature = input(\"Enter a temperature in Celsius degrees: \")\n",
    "        temperature = float(temperature)\n",
    "        f = 9/5*temperature + 32\n",
    "        print(f\"The temperature is {round(f, 2)} degrees Fahrenheit\\n\")\n",
    "    else:\n",
    "        print(\"You entered a wrong option. Exiting the program.\")\n",
    "        break"
   ],
   "id": "2712f5712c8b1e89",
   "outputs": [
    {
     "name": "stdout",
     "output_type": "stream",
     "text": [
      "**** Temperature Converter ****\n",
      "1. Fahrenheit to Celsius \n",
      "2. Celsius to Fahrenheit \n",
      "Please enter an integer\n",
      "The temperature is 223.89 degrees Celsius\n",
      "\n",
      "**** Temperature Converter ****\n",
      "1. Fahrenheit to Celsius \n",
      "2. Celsius to Fahrenheit \n",
      "The temperature is 621815.0 degrees Fahrenheit\n",
      "\n",
      "**** Temperature Converter ****\n",
      "1. Fahrenheit to Celsius \n",
      "2. Celsius to Fahrenheit \n",
      "The temperature is 42195.2 degrees Fahrenheit\n",
      "\n",
      "**** Temperature Converter ****\n",
      "1. Fahrenheit to Celsius \n",
      "2. Celsius to Fahrenheit \n",
      "The temperature is -36.67 degrees Celsius\n",
      "\n",
      "**** Temperature Converter ****\n",
      "1. Fahrenheit to Celsius \n",
      "2. Celsius to Fahrenheit \n",
      "Please enter an integer\n",
      "Please enter an integer\n",
      "Please enter an integer\n",
      "The temperature is 815.0 degrees Fahrenheit\n",
      "\n",
      "**** Temperature Converter ****\n",
      "1. Fahrenheit to Celsius \n",
      "2. Celsius to Fahrenheit \n"
     ]
    }
   ],
   "execution_count": 12
  },
  {
   "metadata": {
    "ExecuteTime": {
     "end_time": "2024-04-23T17:18:44.486982Z",
     "start_time": "2024-04-23T17:18:44.484366Z"
    }
   },
   "cell_type": "code",
   "source": "",
   "id": "9f4e6813d89913a3",
   "outputs": [],
   "execution_count": 11
  },
  {
   "metadata": {
    "ExecuteTime": {
     "end_time": "2024-04-23T17:10:59.729405Z",
     "start_time": "2024-04-23T17:10:59.726958Z"
    }
   },
   "cell_type": "code",
   "source": "",
   "id": "9e709a5903b97961",
   "outputs": [],
   "execution_count": 8
  }
 ],
 "metadata": {
  "kernelspec": {
   "display_name": "Python 3",
   "language": "python",
   "name": "python3"
  },
  "language_info": {
   "codemirror_mode": {
    "name": "ipython",
    "version": 2
   },
   "file_extension": ".py",
   "mimetype": "text/x-python",
   "name": "python",
   "nbconvert_exporter": "python",
   "pygments_lexer": "ipython2",
   "version": "2.7.6"
  }
 },
 "nbformat": 4,
 "nbformat_minor": 5
}
