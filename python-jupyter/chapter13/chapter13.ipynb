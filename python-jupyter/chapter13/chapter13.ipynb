{
 "cells": [
  {
   "cell_type": "code",
   "id": "initial_id",
   "metadata": {
    "collapsed": true,
    "ExecuteTime": {
     "end_time": "2024-04-20T21:06:43.326761Z",
     "start_time": "2024-04-20T21:06:40.780789Z"
    }
   },
   "source": [
    "import math\n",
    "\n",
    "# 1. Math competition. You are holding a math competition where participants have to choose among\n",
    "# three envelopes and solve the arithmetic operation contained in the chosen envelope:\n",
    "# • If the participant chooses envelope 1, she will have to solve: (3 × 52 ÷ 15)−(5−22)\n",
    "# • If the participant chooses envelope 2, she will have to solve: −1 × [(3−4 × 7) ÷ 5]−23 × 24 ÷ 6\n",
    "# • If the participant chooses envelop 3, she will have to solve: (36−3)×4\n",
    "# (15−9)÷3\n",
    "# Compute the solutions.\n",
    "\n",
    "\n",
    "\n",
    "while True:\n",
    "    print(\"\\nMenu:\")\n",
    "    print(\"1. Envelope 1\")\n",
    "    print(\"2. Envelope 2\")\n",
    "    print(\"3. Envelope 3\")\n",
    "    print(\"4. Exit\")\n",
    "    \n",
    "    option = input('Enter a number between 1 and 4: ')\n",
    "\n",
    "    option = int(option)\n",
    "    \n",
    "    if option == 1:\n",
    "        print(f\"You entered {option}. The solution is {(3 * 52 / 15) - (5 - 22)}\")\n",
    "    elif option == 2:\n",
    "        print(f\"You entered {option}. The solution is {-1 * ((3 - 4 * 7) / 5) - math.pow(2, 3) * 24 / 6}\")\n",
    "    elif option == 3:\n",
    "        print(f\"You entered {option}. The solution is {((36-3)*4)/((15-9)/3)}\")\n",
    "    elif option == 4:\n",
    "        print(\"Exiting the program. Thank you.\")\n",
    "        break\n",
    "        "
   ],
   "outputs": [
    {
     "name": "stdout",
     "output_type": "stream",
     "text": [
      "\n",
      "Menu:\n",
      "1. Envelope 1\n",
      "2. Envelope 2\n",
      "3. Envelope 3\n",
      "4. Exit\n",
      "Exiting the program. Thank you.\n"
     ]
    }
   ],
   "execution_count": 20
  },
  {
   "metadata": {
    "ExecuteTime": {
     "end_time": "2024-04-22T04:17:48.751057Z",
     "start_time": "2024-04-22T04:16:53.981001Z"
    }
   },
   "cell_type": "code",
   "source": [
    "import math\n",
    "\n",
    "# 2. Geometry tutoring. You are helping your neighbor’s kid with some geometry exercises. He has\n",
    "# to calculate the area and volume of a cylinder, and you want to test result correctness using\n",
    "# Python. Ask the kid for cylinder radius and height. Then calculate area and volume of a cylinder\n",
    "# using these formulas: area = 2πr2 + 2πrh and volume = πr2h. Hint: What is the value of π?\n",
    "# Assign it to a variable!\n",
    "# He also has to calculate surface and area of a cube of edge length a = 4. He does not have the\n",
    "# right formulas, so you look for them on the internet. Write code to test whether his calculations\n",
    "# are correct.\n",
    "\n",
    "radius = input(\"Enter a radius: \")\n",
    "height = input(\"Enter a height: \")\n",
    "\n",
    "radius = int(radius)\n",
    "height = int(height)\n",
    "\n",
    "pi = math.pi\n",
    "\n",
    "area = 2*pi*math.pow(radius,2) + 2*math.pi*radius*height\n",
    "\n",
    "volume = math.pi*radius*height*height\n",
    "\n",
    "cube_surface_area = 6*math.pow(4,2)\n",
    "\n",
    "print(f\"The area of a cylinder is {area}\")\n",
    "print(f\"The volume of a cylinder is {volume}\")\n",
    "\n",
    "print(f\"The area of the cube is {cube_surface_area}\")\n"
   ],
   "id": "e1104736200483b5",
   "outputs": [
    {
     "name": "stdout",
     "output_type": "stream",
     "text": [
      "The area of a cylinder is 753.9822368615503\n",
      "The volume of a cylinder is 1231.5043202071988\n",
      "The area of the cube is 96.0\n"
     ]
    }
   ],
   "execution_count": 3
  },
  {
   "metadata": {
    "ExecuteTime": {
     "end_time": "2024-04-20T21:06:05.604896Z",
     "start_time": "2024-04-20T21:06:05.601727Z"
    }
   },
   "cell_type": "code",
   "source": [
    "# 3. What’s the temperature out there? You are traveling between Europe and North America, and you\n",
    "# need to pack the right clothes. Write a temperature converter, knowing that the relation between\n",
    "# Celsius and Fahrenheit degrees is C = 5 ÷ 9 × (F − 32). Answer these two questions:\n",
    "# a. The temperature in Miami is 75◦F. What is the temperature in Celsius?\n",
    "# b. The temperature in Lisbon is 17◦C. What is the temperature in Fahrenheit?"
   ],
   "id": "2712f5712c8b1e89",
   "outputs": [],
   "execution_count": 18
  },
  {
   "metadata": {},
   "cell_type": "code",
   "outputs": [],
   "execution_count": null,
   "source": "",
   "id": "9f4e6813d89913a3"
  }
 ],
 "metadata": {
  "kernelspec": {
   "display_name": "Python 3",
   "language": "python",
   "name": "python3"
  },
  "language_info": {
   "codemirror_mode": {
    "name": "ipython",
    "version": 2
   },
   "file_extension": ".py",
   "mimetype": "text/x-python",
   "name": "python",
   "nbconvert_exporter": "python",
   "pygments_lexer": "ipython2",
   "version": "2.7.6"
  }
 },
 "nbformat": 4,
 "nbformat_minor": 5
}
