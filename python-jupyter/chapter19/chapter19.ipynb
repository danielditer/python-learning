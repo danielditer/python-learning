{
 "cells": [
  {
   "cell_type": "code",
   "execution_count": null,
   "id": "initial_id",
   "metadata": {
    "collapsed": true
   },
   "outputs": [],
   "source": [
    "# 1. The Zen of Python. Solve the following 4 steps, and you will discover the Zen of Python!\n",
    "# a) Given the following list of strings:\n",
    "# strings_to_slice = [\"reisk\", \"kpan\", \"xfsimpleg\", \"bosolutionb\", \"pobetterx\",\n",
    "# \"weorb\", \"ofworsep\", \"aathanx\", \"hoau\", \"hfcomplexx\", \"poors\", \"opcomplicatedx\",\n",
    "# \"rwsolutions\", \"re?o\"]\n",
    "# Create a new list called sliced_strings containing the same strings but without the first two\n",
    "# letters and the last letter (Example: \"gfhio\" will become \"hi\").\n",
    "# b) Given the following list of strings:\n",
    "# strings_to_invert= [\"emos\", \"elpoep\", \"kniht\", \"taht\", \"xelpmoc\", \"ro\",\n",
    "# \"detacilpmoc\", \"si\", \"retteb\", \"naht\", \"elpmis\"]\n",
    "# Create an new list called inverted_strings containing the same strings but inverted (Example:\n",
    "# \"ih\" will become \"hi\")\n",
    "# c) Given the following list of strings:\n",
    "# strings_to_pick = [\"this\", \"sounds\", \"simple\", \"but\", \"is\", \"it?\", \"some\", \"things\",\n",
    "# \"look\", \"better\", \"than\", \"when\", \"complex\", \"but\", \"complex\", \"again\", \"is\",\n",
    "# \"worse\", \"better\", \"than\", \"complicated\", \"I'm\", \"confused\"]\n",
    "# Find the words that are present both in sliced_strings and inverted_strings, change them to\n",
    "# uppercase, and add them to a new list. What sentence do you get?\n",
    "# d) Where does this sentence come from? Run the following Python command: import this\n"
   ]
  },
  {
   "metadata": {},
   "cell_type": "code",
   "outputs": [],
   "execution_count": null,
   "source": [
    "# 2. Playing with numbers. Given the following list of numbers:\n",
    "# numbers = [7, 9, 15, 19, 24, 30, 37, 45, 50]\n",
    "# a) Print the numbers that are divisible by 3 and 5; b) Print the numbers that are divisible by 3 or 5;\n",
    "# and c) Print the numbers that are divisible by 3 but not 5. Perform task c) in two different ways,\n",
    "# once using not, and once without using not."
   ],
   "id": "1d4932d5fe5afed7"
  },
  {
   "metadata": {},
   "cell_type": "code",
   "outputs": [],
   "execution_count": null,
   "source": [
    "# 3. Upgrading Rock, paper, scissors. In Chapter 16, we implemented rock, paper, scissors. In that\n",
    "# version, there were many repetitions. In coding, we usually do not want repetitions because\n",
    "# they can invite errors. How can we make the code less repetitive? By combining conditions!\n",
    "# What conditions can you combine in this game? Rewrite rock, paper, scissors in a more succinct\n",
    "# way using logical operators. After you have optimized the code, make it a real game by adding\n",
    "# a while loop that allows players to play as long as they want. Hint: Instead of thinking in terms\n",
    "# of computer and player choices, think in terms of outcomes, i.e., tie and the player’s (or the\n",
    "# computer’s) win."
   ],
   "id": "2ba16a97439bc0c4"
  }
 ],
 "metadata": {
  "kernelspec": {
   "display_name": "Python 3",
   "language": "python",
   "name": "python3"
  },
  "language_info": {
   "codemirror_mode": {
    "name": "ipython",
    "version": 2
   },
   "file_extension": ".py",
   "mimetype": "text/x-python",
   "name": "python",
   "nbconvert_exporter": "python",
   "pygments_lexer": "ipython2",
   "version": "2.7.6"
  }
 },
 "nbformat": 4,
 "nbformat_minor": 5
}
