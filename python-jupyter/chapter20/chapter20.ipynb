{
 "cells": [
  {
   "cell_type": "code",
   "id": "initial_id",
   "metadata": {
    "collapsed": true,
    "ExecuteTime": {
     "end_time": "2024-05-07T16:41:12.979108Z",
     "start_time": "2024-05-07T16:41:11.202431Z"
    }
   },
   "source": [
    "# 1. Do you want less exercises? Rewrite the while loop from the exercise Do you want less exercises?\n",
    "# in Chapter 17 using a Boolean as a flag in the header.\n",
    "\n",
    "flag = True\n",
    "exercises = 10\n",
    "\n",
    "while flag:\n",
    "    user_input = input(\"Do you want less exercises? y/n: \")\n",
    "    \n",
    "    try: \n",
    "        user_input = str(user_input)\n",
    "        \n",
    "        if user_input == 'y':\n",
    "            exercises -= 1\n",
    "            print(f\"You have {exercises} exercises.\")\n",
    "        else:\n",
    "            print(f\"You have a total of {exercises} exercises.\")\n",
    "            flag = False\n",
    "            \n",
    "    except TypeError as e:\n",
    "        print(\"Error: The input should be y or n. Please try again!\", e)"
   ],
   "outputs": [
    {
     "name": "stdout",
     "output_type": "stream",
     "text": [
      "You have a total of 10 exercises.\n"
     ]
    }
   ],
   "execution_count": 10
  },
  {
   "metadata": {
    "ExecuteTime": {
     "end_time": "2024-05-07T16:50:30.809985Z",
     "start_time": "2024-05-07T16:50:30.801858Z"
    }
   },
   "cell_type": "code",
   "source": [
    "# 2. Flipping coins! When flipping a coin, we have two outcomes: heads and tails. In this exercise, we\n",
    "# will use True for heads and False for tails. Flip a coin 8 times and save the outcomes in a list\n",
    "# whose elements are of type Boolean. How many outcomes of heads and tails did you get? What\n",
    "# is the ratio between the number of heads and tails? Now flip a coin 1000 times. What is the new\n",
    "# ratio? How do the two ratios differ?\n",
    "\n",
    "import random\n",
    "\n",
    "flipping_coin_options = [True,False]\n",
    "\n",
    "times = 0\n",
    "flipping_coin_list = []\n",
    "\n",
    "heads_counter= 0\n",
    "tails_counter = 0\n",
    "heads_tails_ratio = 0\n",
    "\n",
    "random_limit = random.choice([8,100])\n",
    "\n",
    "while times < random_limit:\n",
    "    option = random.choice(flipping_coin_options)\n",
    "    flipping_coin_list.append(option)\n",
    "    times += 1\n",
    "    if option:\n",
    "        heads_counter += 1\n",
    "    else:\n",
    "        tails_counter += 1\n",
    "heads_tails_ratio = round(float(heads_counter/tails_counter), 2)\n",
    "\n",
    "print(f\"The number or heads are: {heads_counter}\")\n",
    "print(f\"The number of tails are: {tails_counter}\")\n",
    "print(f\"The ratio between heads and tails are: {heads_tails_ratio}\")\n",
    "\n",
    "\n",
    "\n",
    "\n"
   ],
   "id": "bf898ee5cbe5675c",
   "outputs": [
    {
     "name": "stdout",
     "output_type": "stream",
     "text": [
      "The number or heads are: 4\n",
      "The number of tails are: 4\n",
      "The ratio between heads and tails are: 1.0\n"
     ]
    }
   ],
   "execution_count": 31
  },
  {
   "metadata": {
    "ExecuteTime": {
     "end_time": "2024-05-07T21:24:25.206551Z",
     "start_time": "2024-05-07T21:23:59.428958Z"
    }
   },
   "cell_type": "code",
   "source": [
    "# 3. Comparator. A comparator is an algorithm that compares two numbers. It is similar to a calculator,\n",
    "# but instead of using arithmetic operators, it uses comparison operators. Create a comparator that\n",
    "# asks a user for two integers and prints all the possible comparisons between the two integers.\n",
    "# Example: If the user enters 3 and 5, then print out:\n",
    "# 3 > 5 is False\n",
    "# 3 < 5 is True\n",
    "# etc.\n",
    "# Make sure to: (1) use all the comparison operators; (2) use Booleans wherever possible; and (3)\n",
    "# allow the user to use the comparator for as long as they want. Which numbers did you use to\n",
    "# test that the comparator works correctly? When do you get True as an output?\n",
    "\n",
    "flag = True\n",
    "\n",
    "def comparator():\n",
    "    number_1 = int(input(\"Enter the a number: \"))\n",
    "    number_2 = int(input(\"Enter a second number: \"))\n",
    "    print(f\"{number_1} > {number_2} is {number_1 > number_2}\")\n",
    "    print(f\"{number_1} < {number_2} is {number_1 < number_2}\")\n",
    "    print(f\"{number_1} == {number_2} is {number_1 == number_2}\")\n",
    "    print(f\"{number_1} != {number_2} is {number_1 != number_2}\")\n",
    "    user_input = str(input(\"Do you want to continue: y/n?\"))\n",
    "    return user_input\n",
    "\n",
    "while flag:\n",
    "    user_input = comparator()\n",
    "    if user_input == 'y':\n",
    "        comparator()\n",
    "    else: \n",
    "        flag = False"
   ],
   "id": "8c2eb09df65bcec7",
   "outputs": [
    {
     "name": "stdout",
     "output_type": "stream",
     "text": [
      "8 > 3 is True\n",
      "8 < 3 is False\n",
      "8 == 3 is False\n",
      "8 != 3 is True\n",
      "8 > 9 is False\n",
      "8 < 9 is True\n",
      "8 == 9 is False\n",
      "8 != 9 is True\n",
      "8 > 8 is False\n",
      "8 < 8 is False\n",
      "8 == 8 is True\n",
      "8 != 8 is False\n"
     ]
    }
   ],
   "execution_count": 37
  },
  {
   "metadata": {
    "ExecuteTime": {
     "end_time": "2024-05-07T16:41:02.575928Z",
     "start_time": "2024-05-07T16:41:02.570807Z"
    }
   },
   "cell_type": "code",
   "source": "",
   "id": "66be445bc60a3f8f",
   "outputs": [],
   "execution_count": 8
  },
  {
   "metadata": {},
   "cell_type": "code",
   "outputs": [],
   "execution_count": null,
   "source": "",
   "id": "5c867d0c3d9bb017"
  }
 ],
 "metadata": {
  "kernelspec": {
   "display_name": "Python 3",
   "language": "python",
   "name": "python3"
  },
  "language_info": {
   "codemirror_mode": {
    "name": "ipython",
    "version": 2
   },
   "file_extension": ".py",
   "mimetype": "text/x-python",
   "name": "python",
   "nbconvert_exporter": "python",
   "pygments_lexer": "ipython2",
   "version": "2.7.6"
  }
 },
 "nbformat": 4,
 "nbformat_minor": 5
}
