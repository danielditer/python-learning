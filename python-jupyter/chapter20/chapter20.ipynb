{
 "cells": [
  {
   "cell_type": "code",
   "execution_count": null,
   "id": "initial_id",
   "metadata": {
    "collapsed": true
   },
   "outputs": [],
   "source": [
    "# 1. Do you want less exercises? Rewrite the while loop from the exercise Do you want less exercises?\n",
    "# in Chapter 17 using a Boolean as a flag in the header."
   ]
  },
  {
   "metadata": {},
   "cell_type": "code",
   "outputs": [],
   "execution_count": null,
   "source": [
    "# 2. Flipping coins! When flipping a coin, we have two outcomes: heads and tails. In this exercise, we\n",
    "# will use True for heads and False for tails. Flip a coin 8 times and save the outcomes in a list\n",
    "# whose elements are of type Boolean. How many outcomes of heads and tails did you get? What\n",
    "# is the ratio between the number of heads and tails? Now flip a coin 1000 times. What is the new\n",
    "# ratio? How do the two ratios differ?"
   ],
   "id": "bf898ee5cbe5675c"
  },
  {
   "metadata": {},
   "cell_type": "code",
   "outputs": [],
   "execution_count": null,
   "source": [
    "# 3. Comparator. A comparator is an algorithm that compares two numbers. It is similar to a calculator,\n",
    "# but instead of using arithmetic operators, it uses comparison operators. Create a comparator that\n",
    "# asks a user for two integers and prints all the possible comparisons between the two integers.\n",
    "# Example: If the user enters 3 and 5, then print out:\n",
    "# 3 > 5 is False\n",
    "# 3 < 5 is True\n",
    "# etc.\n",
    "# Make sure to: (1) use all the comparison operators; (2) use Booleans wherever possible; and (3)\n",
    "# allow the user to use the comparator for as long as they want. Which numbers did you use to\n",
    "# test that the comparator works correctly? When do you get True as an output?"
   ],
   "id": "8c2eb09df65bcec7"
  }
 ],
 "metadata": {
  "kernelspec": {
   "display_name": "Python 3",
   "language": "python",
   "name": "python3"
  },
  "language_info": {
   "codemirror_mode": {
    "name": "ipython",
    "version": 2
   },
   "file_extension": ".py",
   "mimetype": "text/x-python",
   "name": "python",
   "nbconvert_exporter": "python",
   "pygments_lexer": "ipython2",
   "version": "2.7.6"
  }
 },
 "nbformat": 4,
 "nbformat_minor": 5
}
