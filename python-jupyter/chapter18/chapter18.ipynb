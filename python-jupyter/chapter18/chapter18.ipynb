{
 "cells": [
  {
   "metadata": {
    "ExecuteTime": {
     "end_time": "2024-05-03T21:59:13.741093Z",
     "start_time": "2024-05-03T21:59:03.228339Z"
    }
   },
   "cell_type": "code",
   "source": [
    "# 1. Guess the number! Create a game where the computer picks a number between 0 and 10, and\n",
    "# the player has to guess it. If the player guesses a number that is too high or too low, then the\n",
    "# computer tells the player. The game stops when the player guesses the number. At the end, tell\n",
    "# the player how many attempts it took to guess the number.\n",
    "\n",
    "import random\n",
    "\n",
    "attempt = 1\n",
    "numbers = []\n",
    "\n",
    "for i in range(11):\n",
    "    numbers.append(i)\n",
    "\n",
    "computer_option =  random.choice(numbers)\n",
    "\n",
    "number = input(\"Pick a number between 0 and 10: \")\n",
    "number = int(number)\n",
    "\n",
    "while number != computer_option:\n",
    "    if computer_option > number:\n",
    "        print(f\"The number {number} is too low\")\n",
    "    elif computer_option < number:\n",
    "        print(f\"The number {number} is too high\")\n",
    "    attempt+=1\n",
    "    number = input(\"Pick a number between 0 and 10: \")\n",
    "    number = int(number)\n",
    "    \n",
    "print(f\"The number is {computer_option} with {attempt} attempt(s)\")\n"
   ],
   "id": "initial_id",
   "outputs": [
    {
     "name": "stdout",
     "output_type": "stream",
     "text": [
      "The number 4 is too low\n",
      "The number 3 is too low\n",
      "The number 5 is too low\n",
      "The number 6 is too low\n",
      "The number is 7 with 4 attempts\n"
     ]
    }
   ],
   "execution_count": 5
  },
  {
   "metadata": {
    "ExecuteTime": {
     "end_time": "2024-05-04T03:58:40.691625Z",
     "start_time": "2024-05-04T03:58:40.685459Z"
    }
   },
   "cell_type": "code",
   "source": [
    "# 12 even random numbers. Create a list of 12 even random numbers between 0 and 30. How many\n",
    "# odd numbers did you exclude?\n",
    "\n",
    "import random\n",
    "\n",
    "random_numbers = []\n",
    "discarded_numbers_counter = 0\n",
    "\n",
    "while len(random_numbers) < 12:\n",
    "    random_number =  random.randint(0,30)\n",
    "    if random_number % 2 == 0:\n",
    "        random_numbers.append(random_number)\n",
    "    else: \n",
    "        print(f\"The number {random_number} is odd so it will be excluded.\")\n",
    "        discarded_numbers_counter+=1\n",
    "\n",
    "print(f\"\\nThe even numbers are: {random_numbers}\")\n",
    "print(f\"There are {discarded_numbers_counter} odd numbers excluded.\")"
   ],
   "id": "be6759b4b8369830",
   "outputs": [
    {
     "name": "stdout",
     "output_type": "stream",
     "text": [
      "The number 19 is odd so it will be excluded.\n",
      "The number 13 is odd so it will be excluded.\n",
      "The number 11 is odd so it will be excluded.\n",
      "The number 1 is odd so it will be excluded.\n",
      "The number 11 is odd so it will be excluded.\n",
      "The number 19 is odd so it will be excluded.\n",
      "\n",
      "The even numbers are: [18, 22, 14, 28, 2, 26, 0, 12, 4, 16, 20, 14]\n",
      "There are 6 odd numbers excluded.\n"
     ]
    }
   ],
   "execution_count": 6
  },
  {
   "metadata": {
    "jupyter": {
     "is_executing": true
    }
   },
   "cell_type": "code",
   "source": [
    "# Spelling game for kids. Create a game that helps kids learn spelling. The game has the following\n",
    "# requirements: (1) Create a list of words to be spelled. Among these words, choose a word randomly,\n",
    "# and tell the kid the chosen word (e.g., “Spell the word ‘hello’”). (2) The kid has to enter\n",
    "# one letter at the time. If the kid enters the correct letter, then provide positive reinforcement\n",
    "# (e.g., “Well done!”), and ask for the next letter. If the kid does not enter the correct letter, then\n",
    "# tell them that the letter is not correct, and ask for a letter again.\n",
    "# Challenge 1: Instead of creating only 1 list of words, create 3 lists, one per topic, so that the kid\n",
    "# can choose a topic before spelling a word.\n",
    "# Challenge 2: The game continues as long as the kid wants to spell a new word.\n",
    "\n",
    "import random\n",
    "\n",
    "word_list = [\n",
    "    \"Elephant\",\n",
    "    \"Sunshine\",\n",
    "    \"Backpack\",\n",
    "    \"Watermelon\",\n",
    "    \"Kangaroo\",\n",
    "    \"Universe\",\n",
    "    \"Adventure\",\n",
    "    \"Chocolate\",\n",
    "    \"Butterfly\",\n",
    "    \"Rainbow\",\n",
    "    \"Firefly\",\n",
    "    \"Guitar\",\n",
    "    \"Symphony\",\n",
    "    \"Octopus\",\n",
    "    \"Tornado\"\n",
    "]\n",
    "\n",
    "word =  random.choice(word_list)\n",
    "user_input = input(f\"Spell the word '{word}'\")\n",
    "user_input = str(user_input).lower()\n",
    "\n",
    "guessed_word = \"\"\n",
    "word_to_guess_index = 0\n",
    "\n",
    "while guessed_word != word:\n",
    "    if word[word_to_guess_index] == user_input:\n",
    "        print(\"Well done!\")\n",
    "        word_to_guess_index+=1\n",
    "        guessed_word += user_input\n",
    "       \n",
    "    else:\n",
    "        print(\"Wrong letter. Please, try again!\")\n",
    "    user_input = input(f\"Insert the next letter of '{word}'\")\n",
    "    user_input = str(user_input)\n",
    "    if guessed_word == word:\n",
    "        print(\"You  completed the word!\")\n",
    "        break"
   ],
   "id": "716f3474ddbc5d19",
   "outputs": [],
   "execution_count": null
  },
  {
   "metadata": {},
   "cell_type": "code",
   "outputs": [],
   "execution_count": null,
   "source": "",
   "id": "4ab2187ae95b8653"
  }
 ],
 "metadata": {
  "kernelspec": {
   "display_name": "Python 3",
   "language": "python",
   "name": "python3"
  },
  "language_info": {
   "codemirror_mode": {
    "name": "ipython",
    "version": 2
   },
   "file_extension": ".py",
   "mimetype": "text/x-python",
   "name": "python",
   "nbconvert_exporter": "python",
   "pygments_lexer": "ipython2",
   "version": "2.7.6"
  }
 },
 "nbformat": 4,
 "nbformat_minor": 5
}
