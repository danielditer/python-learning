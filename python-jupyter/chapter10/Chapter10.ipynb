{
 "cells": [
  {
   "cell_type": "code",
   "id": "initial_id",
   "metadata": {
    "collapsed": true,
    "ExecuteTime": {
     "end_time": "2024-04-16T19:18:51.240717Z",
     "start_time": "2024-04-16T19:18:51.236070Z"
    }
   },
   "source": [
    "seasons = ['spring', 'summer', 'fall', 'winter']\n",
    "\n",
    "for season in seasons:\n",
    "    season_length = len(season)\n",
    "    season_index = seasons.index(season)\n",
    "    if season_length > 5:\n",
    "        print(f\"The season {season} has a length more than 5\")\n",
    "    if season_length <= 4:\n",
    "        print(f\"The season {season} has a length equal to or less than 4\")\n",
    "    if season_index < 2:\n",
    "        print(f\"The season {season} is in a position less than 2\")\n",
    "    if season_index >= 2:\n",
    "        print(f\"The season {season} is in a position equal or greater than 2\")"
   ],
   "outputs": [
    {
     "name": "stdout",
     "output_type": "stream",
     "text": [
      "The season spring has a length more than 5\n",
      "The season spring is in a position less than 2\n",
      "The season summer has a length more than 5\n",
      "The season summer is in a position less than 2\n",
      "The season fall has a length equal to or less than 4\n",
      "The season fall is in a position equal or greater than 2\n",
      "The season winter has a length more than 5\n",
      "The season winter is in a position equal or greater than 2\n"
     ]
    }
   ],
   "execution_count": 2
  },
  {
   "metadata": {
    "ExecuteTime": {
     "end_time": "2024-04-17T02:30:58.131581Z",
     "start_time": "2024-04-17T02:30:58.125375Z"
    }
   },
   "cell_type": "code",
   "source": [
    "words = [\"cards\", \"park\", \"pets\", \"football\", \"golf\", \"crosswords\", \"toys\",\n",
    "\"exercise\", \"hobbies\", \"riding\", \"biking\", \"games\", \"reading\", \"movies\",\n",
    "\"walking\", \"concerts\"]\n",
    "\n",
    "title = len(words)\n",
    "print(f'Word search with {title} words')\n",
    "\n",
    "for word in words:\n",
    "    word_length = len(word)\n",
    "    word_index = words.index(word)\n",
    "    if word_length < 6 or word_length > 8:\n",
    "        print(f\"1st cond: The word {word} is in the position {word_index} and it has {word_length} letters\")\n",
    "    if word_index >= title/2 and word_length != 7:\n",
    "        print(f\"2nd cond: The word {word} is in the position {word_index} and it has {word_length} letters\")\n",
    "    if word_index < 4:\n",
    "        print(f\"3rd cond: The word {word} is in the position {word_index} and it has {word_length} letters\")    \n",
    "        "
   ],
   "id": "7f04a01f0bc400fb",
   "outputs": [
    {
     "name": "stdout",
     "output_type": "stream",
     "text": [
      "Word search with 16 words\n",
      "1st cond: The word cards is in the position 0 and it has 5 letters\n",
      "3rd cond: The word cards is in the position 0 and it has 5 letters\n",
      "1st cond: The word park is in the position 1 and it has 4 letters\n",
      "3rd cond: The word park is in the position 1 and it has 4 letters\n",
      "1st cond: The word pets is in the position 2 and it has 4 letters\n",
      "3rd cond: The word pets is in the position 2 and it has 4 letters\n",
      "3rd cond: The word football is in the position 3 and it has 8 letters\n",
      "1st cond: The word golf is in the position 4 and it has 4 letters\n",
      "1st cond: The word crosswords is in the position 5 and it has 10 letters\n",
      "1st cond: The word toys is in the position 6 and it has 4 letters\n",
      "2nd cond: The word riding is in the position 9 and it has 6 letters\n",
      "2nd cond: The word biking is in the position 10 and it has 6 letters\n",
      "1st cond: The word games is in the position 11 and it has 5 letters\n",
      "2nd cond: The word games is in the position 11 and it has 5 letters\n",
      "2nd cond: The word movies is in the position 13 and it has 6 letters\n",
      "2nd cond: The word concerts is in the position 15 and it has 8 letters\n"
     ]
    }
   ],
   "execution_count": 5
  },
  {
   "metadata": {},
   "cell_type": "code",
   "outputs": [],
   "execution_count": null,
   "source": "",
   "id": "9795773ddca0c519"
  },
  {
   "metadata": {
    "ExecuteTime": {
     "end_time": "2024-04-17T03:00:57.742588Z",
     "start_time": "2024-04-17T03:00:57.736192Z"
    }
   },
   "cell_type": "code",
   "source": [
    "msk_words = [\"ankle\", \"patella\", \"rib\", \"femur\", \"sternocleidomastoid\", \"tendon\",\n",
    "\"sternum\", \"abdominal external oblique\", \"muscle\", \"scapula\", \"radius\", \"bone\",\n",
    "\"vertebra\", \"ligament\", \"ulna\", \"skull\", \"clavicle\"]\n",
    "\n",
    "msk_words_length = len(msk_words)\n",
    "print(f\"You have to learn {msk_words_length} words.\")\n",
    "\n",
    "short_msk_words = []\n",
    "int_msk_words = []\n",
    "long_msk_words = []\n",
    "\n",
    "for msk_word in msk_words:\n",
    "    print(f\"{msk_word} has a length of {len(msk_word)}\")\n",
    "    if len(msk_word) <= 6:\n",
    "        short_msk_words.append(msk_word)\n",
    "        print(f\"{msk_word} was added to the list of words with shorter lengths.\")\n",
    "    elif 7 <= len(msk_word) <= 9:\n",
    "        int_msk_words.append(msk_word)\n",
    "        print(f\"{msk_word} was added to the list of words with intermediate lengths.\")\n",
    "    elif len(msk_word) >= 9:\n",
    "        long_msk_words.append(msk_word)\n",
    "        print(f\"{msk_word} was added to the list of words with long lengths.\")\n",
    "\n",
    "print(f\"The short words list has {len(short_msk_words)} words. {short_msk_words}\")\n",
    "print(f\"The int words list has {len(int_msk_words)} words.  {int_msk_words}\")\n",
    "print(f\"The long words list has {len(long_msk_words)} words. {long_msk_words}\")\n"
   ],
   "id": "c59a1e8330cb3a1c",
   "outputs": [
    {
     "name": "stdout",
     "output_type": "stream",
     "text": [
      "You have to learn 17 words.\n",
      "ankle has a length of 5\n",
      "ankle was added to the list of words with shorter lengths.\n",
      "patella has a length of 7\n",
      "patella was added to the list of words with intermediate lengths.\n",
      "rib has a length of 3\n",
      "rib was added to the list of words with shorter lengths.\n",
      "femur has a length of 5\n",
      "femur was added to the list of words with shorter lengths.\n",
      "sternocleidomastoid has a length of 19\n",
      "sternocleidomastoid was added to the list of words with long lengths.\n",
      "tendon has a length of 6\n",
      "tendon was added to the list of words with shorter lengths.\n",
      "sternum has a length of 7\n",
      "sternum was added to the list of words with intermediate lengths.\n",
      "abdominal external oblique has a length of 26\n",
      "abdominal external oblique was added to the list of words with long lengths.\n",
      "muscle has a length of 6\n",
      "muscle was added to the list of words with shorter lengths.\n",
      "scapula has a length of 7\n",
      "scapula was added to the list of words with intermediate lengths.\n",
      "radius has a length of 6\n",
      "radius was added to the list of words with shorter lengths.\n",
      "bone has a length of 4\n",
      "bone was added to the list of words with shorter lengths.\n",
      "vertebra has a length of 8\n",
      "vertebra was added to the list of words with intermediate lengths.\n",
      "ligament has a length of 8\n",
      "ligament was added to the list of words with intermediate lengths.\n",
      "ulna has a length of 4\n",
      "ulna was added to the list of words with shorter lengths.\n",
      "skull has a length of 5\n",
      "skull was added to the list of words with shorter lengths.\n",
      "clavicle has a length of 8\n",
      "clavicle was added to the list of words with intermediate lengths.\n",
      "The short words list has 9 words. ['ankle', 'rib', 'femur', 'tendon', 'muscle', 'radius', 'bone', 'ulna', 'skull']\n",
      "The int words list has 6 words.  ['patella', 'sternum', 'scapula', 'vertebra', 'ligament', 'clavicle']\n",
      "The long words list has 2 words. ['sternocleidomastoid', 'abdominal external oblique']\n"
     ]
    }
   ],
   "execution_count": 13
  },
  {
   "metadata": {},
   "cell_type": "code",
   "outputs": [],
   "execution_count": null,
   "source": "",
   "id": "1cc92aadf14e0c16"
  }
 ],
 "metadata": {
  "kernelspec": {
   "display_name": "Python 3",
   "language": "python",
   "name": "python3"
  },
  "language_info": {
   "codemirror_mode": {
    "name": "ipython",
    "version": 2
   },
   "file_extension": ".py",
   "mimetype": "text/x-python",
   "name": "python",
   "nbconvert_exporter": "python",
   "pygments_lexer": "ipython2",
   "version": "2.7.6"
  }
 },
 "nbformat": 4,
 "nbformat_minor": 5
}
