{
 "cells": [
  {
   "cell_type": "code",
   "id": "initial_id",
   "metadata": {
    "collapsed": true,
    "ExecuteTime": {
     "end_time": "2024-04-19T02:04:27.873525Z",
     "start_time": "2024-04-19T02:04:27.864621Z"
    }
   },
   "source": [
    "# 1. For each of the following scenarios, create code similar to that presented in this chapter.\n",
    "# a. Selling electric cars. You work at a famous car company, and you have to ship new electric\n",
    "# cars that have just arrived. Your colleagues plated the cars destined to Spain and to Portugal,\n",
    "# but they mixed them up:\n",
    "# e_cars = [\"PT-754J\", \"ES-096L\", \"PT-536G\", \"FR-543H\", \"PT-653H\"]\n",
    "# Separate the two groups of cars according to their destinations.\n",
    "# b. Teaching English verbs. You are an English teacher for foreign students. Some of them have\n",
    "# difficulties understanding when a present verb is conjugated in the third person singular\n",
    "# (he/she/it), or in other persons (I/you/we/they). So you provide a list of verbs:\n",
    "# english_verbs = [\"eat\", \"drink\", \"eats\", \"sleep\", \"drinks\", \"sleeps\"]\n",
    "# and you help your students separate the verbs between third person and other persons.\n",
    "\n",
    "print(f\"\\na.\")\n",
    "e_cars = [\"PT-754J\", \"ES-096L\", \"PT-536G\", \"FR-543H\", \"PT-653H\"]\n",
    "\n",
    "spanish_cars = []\n",
    "portuguese_cars = []\n",
    "\n",
    "for car in e_cars:\n",
    "    country_id = car[:2]\n",
    "    if country_id == \"PT\":\n",
    "        portuguese_cars.append(car)\n",
    "    elif country_id == \"ES\":\n",
    "        spanish_cars.append(car)\n",
    "\n",
    "print(f\"\\tThe spanish cars are: {spanish_cars}\")\n",
    "print(f\"\\tThe portuguese cars are: {portuguese_cars}\")\n",
    "\n",
    "\n",
    "print(f\"\\nb.\")\n",
    "english_verbs = [\"eat\", \"drink\", \"eats\", \"sleep\", \"drinks\", \"sleeps\"]\n",
    "\n",
    "verbs_third_person = []\n",
    "verbs_other_persons = []\n",
    "\n",
    "for verb in english_verbs:\n",
    "    if verb.endswith(\"s\"):\n",
    "        verbs_third_person.append(verb)\n",
    "    else:\n",
    "        verbs_other_persons.append(verb)\n",
    "        \n",
    "print(f\"\\tThe english verbs in 3rd person are: {verbs_third_person}\")\n",
    "print(f\"\\tThe english verbs in other persons are: {verbs_other_persons}\")\n",
    "\n",
    "verbs_third_person = []\n",
    "verbs_other_persons = []\n",
    "\n",
    "for i in range(len(english_verbs)):\n",
    "    if english_verbs[i][len(english_verbs[i]) - 1] == \"s\":\n",
    "        verbs_third_person.append(english_verbs[i])\n",
    "    else:\n",
    "        verbs_other_persons.append(english_verbs[i])\n",
    "\n",
    "print(f\"\\tThe english verbs in 3rd person are: {verbs_third_person}\")\n",
    "print(f\"\\tThe english verbs in other persons are: {verbs_other_persons}\")        \n"
   ],
   "outputs": [
    {
     "name": "stdout",
     "output_type": "stream",
     "text": [
      "\n",
      "a.\n",
      "\tThe spanish cars are: ['ES-096L']\n",
      "\tThe portuguese cars are: ['PT-754J', 'PT-536G', 'PT-653H']\n",
      "\n",
      "b.\n",
      "\tThe english verbs in 3rd person are: ['eats', 'drinks', 'sleeps']\n",
      "\tThe english verbs in other persons are: ['eat', 'drink', 'sleep']\n",
      "\tThe english verbs in 3rd person are: ['eats', 'drinks', 'sleeps']\n",
      "\tThe english verbs in other persons are: ['eat', 'drink', 'sleep']\n"
     ]
    }
   ],
   "execution_count": 22
  },
  {
   "metadata": {
    "ExecuteTime": {
     "end_time": "2024-04-19T03:19:19.780518Z",
     "start_time": "2024-04-19T03:19:19.775157Z"
    }
   },
   "cell_type": "code",
   "source": [
    "# 2. Desserts. Given the following list:\n",
    "# desserts = [\"meringue\", \"apple pie\", \"eclair\", \"rice pudding\", \"chocolate\",\n",
    "# \"english pudding\", \"cake\", \"icing\"]\n",
    "# Get all the initials, change them to uppercase, and concatenate them in a new list. Then invert\n",
    "# the list. What dessert do you get?\n",
    "\n",
    "desserts = [\"meringue\", \"apple pie\", \"eclair\", \"rice pudding\", \"chocolate\",\n",
    "\"english pudding\", \"cake\", \"icing\"]\n",
    "\n",
    "desserts_initials = []\n",
    "for i in range(len(desserts)):\n",
    "    desserts_initials.append(str(desserts[i][0]).upper())\n",
    "    \n",
    "dessert = \"\"\n",
    "index = len(desserts_initials)\n",
    "\n",
    "for i in range(len(desserts_initials)):\n",
    "    dessert += desserts_initials[index-1]\n",
    "    index -= 1\n",
    "\n",
    "print(f\"\\tThe dessert is: {dessert}\")"
   ],
   "id": "945082ec6e286eba",
   "outputs": [
    {
     "name": "stdout",
     "output_type": "stream",
     "text": [
      "\tThe dessert is: ICECREAM\n"
     ]
    }
   ],
   "execution_count": 28
  },
  {
   "metadata": {
    "ExecuteTime": {
     "end_time": "2024-04-19T02:22:01.240240Z",
     "start_time": "2024-04-19T02:22:01.237888Z"
    }
   },
   "cell_type": "code",
   "source": [
    "# 3. Guess the jobs. Given the following list:\n",
    "# jobs = [\"photog\", \"bal\", \"mu\", \"inve\", \"ambas\", \"si\", \"ler\", \"stig\", \"rapher\", \"ci\",\n",
    "# \"ator\", \"ina\", \"an\", \"sador\"]\n",
    "# Group strings composed of 2, 3, 4, 5, and 6 letters in new lists. What jobs do you get? Make sure\n",
    "# that the first letter of each job is uppercase."
   ],
   "id": "cfb1d7ef7fb4bd0a",
   "outputs": [],
   "execution_count": 27
  },
  {
   "metadata": {
    "ExecuteTime": {
     "end_time": "2024-04-19T03:50:52.860443Z",
     "start_time": "2024-04-19T03:50:52.852646Z"
    }
   },
   "cell_type": "code",
   "source": [
    "jobs = [\"photog\", \"bal\", \"mu\", \"inve\", \"ambas\", \"si\", \"ler\", \"stig\", \"rapher\", \"ci\",\n",
    "\"ator\", \"ina\", \"an\", \"sador\"]\n",
    "\n",
    "two_chars = []\n",
    "three_chars = []\n",
    "four_chars = []\n",
    "five_chars = []\n",
    "six_chars = []\n",
    "\n",
    "for job in jobs:\n",
    "    string_length = len(job)\n",
    "    first_string_char = job[0]\n",
    "    if string_length == 2:\n",
    "        if len(two_chars) == 0:\n",
    "            two_chars.append(job.title())\n",
    "        else:\n",
    "            two_chars.append(job)\n",
    "    elif string_length == 3:\n",
    "        if len(three_chars) == 0:\n",
    "            three_chars.append(job.title())\n",
    "        else:\n",
    "            three_chars.append(job)\n",
    "    elif string_length == 4:\n",
    "        if len(four_chars) == 0:\n",
    "            four_chars.append(job.title())\n",
    "        else:\n",
    "            four_chars.append(job)\n",
    "    elif string_length == 5:\n",
    "        if len(five_chars) == 0:\n",
    "            five_chars.append(job.title())\n",
    "        else:\n",
    "            five_chars.append(job)\n",
    "    elif string_length == 6:\n",
    "        if len(six_chars) == 0:\n",
    "            six_chars.append(job.title())\n",
    "        else:\n",
    "            six_chars.append(job)        \n",
    "    \n",
    "grouped_jobs_list = [two_chars,three_chars,four_chars,five_chars,six_chars]\n",
    "\n",
    "for i in range(len(grouped_jobs_list)):\n",
    "    job = ''\n",
    "    for j in range(len(grouped_jobs_list[i])):\n",
    "        job += grouped_jobs_list[i][j]\n",
    "    print(f\"\\t The job is {job}\")\n"
   ],
   "id": "ce4d2cb7c27e29c0",
   "outputs": [
    {
     "name": "stdout",
     "output_type": "stream",
     "text": [
      "\t The job is Musician\n",
      "\t The job is Ballerina\n",
      "\t The job is Investigator\n",
      "\t The job is Ambassador\n",
      "\t The job is Photographer\n"
     ]
    }
   ],
   "execution_count": 35
  },
  {
   "metadata": {
    "ExecuteTime": {
     "end_time": "2024-04-19T04:07:11.345124Z",
     "start_time": "2024-04-19T04:07:11.338682Z"
    }
   },
   "cell_type": "code",
   "source": [
    "# 4. Art. Given the following list:\n",
    "# art = [\"apor\", \"refsscu\", \"atwat\", \"fetes\", \"erta\", \"jtylpt\", \"aprco\", \"srap\",\n",
    "# \"ruolo\", \"texture\", \"gitp\", \"puors\"]\n",
    "# Create new lists for each of the following:\n",
    "# • If the string length is 4, then get two letters starting from the second (position 1)\n",
    "# • If the string length is 5, then get the third and fourth letters (positions 2 and 3)\n",
    "# • If the string length is at least 6, then get the last three letters\n",
    "# What art words do you get? Make sure all strings are uppercase!\n",
    "\n",
    "art = [\"apor\", \"refsscu\", \"atwat\", \"fetes\", \"erta\", \"jtylpt\", \"aprco\", \"srap\",\n",
    "\"ruolo\", \"texture\", \"gitp\", \"puors\"]\n",
    "\n",
    "four_letters = []\n",
    "five_letters = []\n",
    "six_or_more_letters = []\n",
    "\n",
    "for art_word in art:\n",
    "    word_length = len(art_word)\n",
    "    if word_length == 4:\n",
    "        four_letters.append(art_word[1:3])\n",
    "    elif  word_length == 5:\n",
    "        five_letters.append(art_word[2:4])\n",
    "    elif  word_length >= 6:\n",
    "        six_or_more_letters.append(art_word[-3:])  \n",
    "\n",
    "art_grouped_list = [four_letters,five_letters,six_or_more_letters]\n",
    "\n",
    "for i in range(len(art_grouped_list)):\n",
    "    art_word = \"\"\n",
    "    for j in range(len(art_grouped_list[i])):\n",
    "        art_word  += str(art_grouped_list[i][j]).upper()\n",
    "    print(f\"The art word is: {art_word}\")\n",
    "        "
   ],
   "id": "f6082688c729545a",
   "outputs": [
    {
     "name": "stdout",
     "output_type": "stream",
     "text": [
      "The art word is: PORTRAIT\n",
      "The art word is: WATERCOLOR\n",
      "The art word is: SCULPTURE\n"
     ]
    }
   ],
   "execution_count": 42
  },
  {
   "metadata": {},
   "cell_type": "code",
   "outputs": [],
   "execution_count": null,
   "source": "",
   "id": "7d857ff4eca7146f"
  }
 ],
 "metadata": {
  "kernelspec": {
   "display_name": "Python 3",
   "language": "python",
   "name": "python3"
  },
  "language_info": {
   "codemirror_mode": {
    "name": "ipython",
    "version": 2
   },
   "file_extension": ".py",
   "mimetype": "text/x-python",
   "name": "python",
   "nbconvert_exporter": "python",
   "pygments_lexer": "ipython2",
   "version": "2.7.6"
  }
 },
 "nbformat": 4,
 "nbformat_minor": 5
}
