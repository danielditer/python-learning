{
 "cells": [
  {
   "cell_type": "code",
   "id": "initial_id",
   "metadata": {
    "collapsed": true
   },
   "source": [
    "import sys\n",
    "\n",
    "# 1. Finding the minimum in a list of numbers. Given the following list of numbers:\n",
    "# numbers = [78, -900, 356, -103, 0, -78]\n",
    "# find the minimum number in the list.\n",
    "\n",
    "numbers = [78, -900, 356, -103, 0, -78]\n",
    "\n",
    "minimum = sys.maxsize\n",
    "\n",
    "for number in numbers:\n",
    "    if number < minimum:\n",
    "        minimum = number\n",
    "print(f\"The minimum value in the list is {minimum}\")\n"
   ],
   "outputs": [],
   "execution_count": null
  },
  {
   "metadata": {},
   "cell_type": "code",
   "source": [
    "# 2. Grouping numbers by position. Given the following list of numbers:\n",
    "# numbers = [4, 25, 7, -8, 59, 63, -10, 74]\n",
    "# separate the numbers in odd positions from the numbers in even positions using a for loop.\n",
    "\n",
    "numbers = [4, 25, 7, -8, 59, 63, -10, 74]\n",
    "\n",
    "even_index = []\n",
    "odd_index = []\n",
    "\n",
    "for i in range(len(numbers)):\n",
    "    if i % 2 == 0:\n",
    "        odd_index.append(numbers[i])\n",
    "    else:\n",
    "        even_index.append(numbers[i])\n",
    "        \n",
    "print(f\"The even and odd lists are: {even_index}, {odd_index}\")"
   ],
   "id": "1bdaeb536c5707e3",
   "outputs": [],
   "execution_count": null
  },
  {
   "metadata": {},
   "cell_type": "code",
   "source": [
    "# 3. Number multiples. Given the following list of numbers:\n",
    "# numbers = [20, 24, 69, 15, 100, 16, 40, 80, 33, 57, 2, 200]\n",
    "# create a list for the numbers that are multiples of 10, a list for the numbers that are multiples of\n",
    "# 3, and a list for the remaining numbers. Finally, delete the list numbers.\n",
    "\n",
    "numbers = [20, 24, 69, 15, 100, 16, 40, 80, 33, 57, 2, 200]\n",
    "\n",
    "multiples_of_ten = []\n",
    "multiples_of_three = []\n",
    "remaining_numbers = []\n",
    "\n",
    "for number in numbers:\n",
    "    if number % 3 == 0:\n",
    "        multiples_of_three.append(number)\n",
    "    elif number % 10 == 0:\n",
    "        multiples_of_ten.append(number)\n",
    "    else:\n",
    "        remaining_numbers.append(number)\n",
    "del numbers\n",
    "\n",
    "print(f\"The multiples_of_ten are: {multiples_of_ten}\")\n",
    "print(f\"The multiples_of_three are: {multiples_of_three}\")\n",
    "print(f\"The remaining_numbers are: {remaining_numbers}\")"
   ],
   "id": "208836d19314d9ca",
   "outputs": [],
   "execution_count": null
  },
  {
   "metadata": {
    "ExecuteTime": {
     "end_time": "2024-04-24T03:59:01.859123Z",
     "start_time": "2024-04-24T03:59:01.853935Z"
    }
   },
   "cell_type": "code",
   "source": [
    "# 4. Longest and shortest string. Given the following list of strings:\n",
    "# dogs = [\"labrador\", \"chihuahua\", \"basset hound\", \"bernese shepherd\", \"poodle\",\n",
    "# \"cocker spaniel\"]\n",
    "# find the longest and the shortest strings. Print out the two strings and their lengths.\n",
    "\n",
    "dogs = [\"labrador\", \"chihuahua\", \"basset hound\", \"bernese shepherd\", \"poodle\",\n",
    "\"cocker spaniel\"]\n",
    "\n",
    "min_length_word = dogs[0]\n",
    "max_length_word = dogs[0]\n",
    "\n",
    "for dog in dogs:\n",
    "    dog_length = len(dog)\n",
    "    if dog_length <= len(min_length_word):\n",
    "        min_length_word = dog\n",
    "    elif dog_length >= len(max_length_word):\n",
    "        max_length_word = dog\n",
    "\n",
    "print(f\"The min_length_word and max_length_word are: {min_length_word}, {max_length_word}\")"
   ],
   "id": "1b950d1038dd126a",
   "outputs": [
    {
     "name": "stdout",
     "output_type": "stream",
     "text": [
      "The min_length_word and max_length_word are: poodle, bernese shepherd\n"
     ]
    }
   ],
   "execution_count": 70
  },
  {
   "metadata": {
    "ExecuteTime": {
     "end_time": "2024-04-24T03:58:44.068983Z",
     "start_time": "2024-04-24T03:58:44.065024Z"
    }
   },
   "cell_type": "code",
   "source": [
    "# 5. Summing numbers in a list. Given the following list of numbers:\n",
    "# numbers = [3, 5, 2]\n",
    "# calculate the sum.\n",
    "\n",
    "numbers = [3, 5, 2]\n",
    "sum = 0\n",
    "\n",
    "for number in numbers:\n",
    "    sum += number\n",
    "    \n",
    "print(f\"The sum is {sum}\")"
   ],
   "id": "a27dff49d12f20da",
   "outputs": [
    {
     "name": "stdout",
     "output_type": "stream",
     "text": [
      "The sum is 10\n"
     ]
    }
   ],
   "execution_count": 68
  },
  {
   "metadata": {
    "ExecuteTime": {
     "end_time": "2024-04-24T00:54:12.511943Z",
     "start_time": "2024-04-24T00:54:10.280133Z"
    }
   },
   "cell_type": "code",
   "source": [
    "# 6. Fibonacci sequence. The Fibonacci sequence is a sequence of numbers where the current number\n",
    "# is the sum of the two previous numbers. Write code that asks the user for a number n and prints\n",
    "# out the Fibonacci sequence of n.\n",
    "# Hint: Start the sequence as [1,1]\n",
    "\n",
    "n = input(\"Enter a number: \")\n",
    "n = int(n)\n",
    "\n",
    "fibonacci = [1, 1]\n",
    "\n",
    "for i in range(n):\n",
    "    if n == 1: \n",
    "        fibonacci = [1]\n",
    "    elif i+3 <= n:\n",
    "        fibonacci.append(fibonacci[i]+fibonacci[i+1])\n",
    "print(f\"The Fibonacci sequence of {n} is: {fibonacci}\")"
   ],
   "id": "cd207768f3cc1d05",
   "outputs": [
    {
     "name": "stdout",
     "output_type": "stream",
     "text": [
      "The Fibonacci sequence of 5 is: [1, 1, 2, 3, 5]\n"
     ]
    }
   ],
   "execution_count": 56
  },
  {
   "metadata": {},
   "cell_type": "code",
   "outputs": [],
   "execution_count": null,
   "source": "",
   "id": "970b2ae4ec41b005"
  }
 ],
 "metadata": {
  "kernelspec": {
   "display_name": "Python 3",
   "language": "python",
   "name": "python3"
  },
  "language_info": {
   "codemirror_mode": {
    "name": "ipython",
    "version": 2
   },
   "file_extension": ".py",
   "mimetype": "text/x-python",
   "name": "python",
   "nbconvert_exporter": "python",
   "pygments_lexer": "ipython2",
   "version": "2.7.6"
  }
 },
 "nbformat": 4,
 "nbformat_minor": 5
}
