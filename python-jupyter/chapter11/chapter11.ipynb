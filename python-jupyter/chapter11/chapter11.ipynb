{
 "cells": [
  {
   "cell_type": "code",
   "id": "initial_id",
   "metadata": {
    "collapsed": true,
    "ExecuteTime": {
     "end_time": "2024-04-18T02:44:52.801161Z",
     "start_time": "2024-04-18T02:44:52.795910Z"
    }
   },
   "source": [
    "acronyms = [\"asap\", \"faq\", \"fyi\", \"diy\"]\n",
    "\n",
    "for i in range(len(acronyms)):\n",
    "    acronyms = [\"asap\", \"faq\", \"fyi\", \"diy\"]\n",
    "    acronyms[i] = acronyms[i].upper()\n",
    "    print(acronyms[i])\n",
    "    \n",
    "print('\\n')\n",
    "names = [\"JOHN\", \"geetha\", \"xiao\", \"LAURA\"]\n",
    "for i in range(len(names)):\n",
    "    names[i] = names[i].capitalize()\n",
    "    print(names[i])\n",
    "    "
   ],
   "outputs": [
    {
     "name": "stdout",
     "output_type": "stream",
     "text": [
      "ASAP\n",
      "FAQ\n",
      "FYI\n",
      "DIY\n",
      "\n",
      "\n",
      "John\n",
      "Geetha\n",
      "Xiao\n",
      "Laura\n"
     ]
    }
   ],
   "execution_count": 31
  },
  {
   "metadata": {
    "ExecuteTime": {
     "end_time": "2024-04-18T03:27:45.806010Z",
     "start_time": "2024-04-18T03:27:45.798327Z"
    }
   },
   "cell_type": "code",
   "source": [
    "colors = [\"yellow\", \"beige\", \"green\", \"red\", \"ultramarine\", \"coral\", \"lavender\",\n",
    "\"silver\", \"cyan\", \"blue\", \"black\", \"magenta\", \"gold\", \"pink\", \"scarlet\", \"brown\"]\n",
    "\n",
    "print(f\"a. There are {len(colors)} colors in total.\")\n",
    "\n",
    "print(\"\\nb.\")\n",
    "for i in range(len(colors)):\n",
    "    if (i+1)%3 == 0 :\n",
    "        colors[i+1] = colors[i+1].upper()  \n",
    "print(colors)\n",
    "\n",
    "print(\"\\nc.\")\n",
    "for i in range(len(colors)):\n",
    "    if (i+2)%3 == 0 and i < len(colors)-3:\n",
    "        colors[i+3] = colors[i+3].capitalize()\n",
    "print(colors)\n",
    "\n",
    "# d. Add all the colors of the first half of the list colors to the following list using a for loop,\n",
    "# making sure they are lowercase:\n",
    "# some_colors = [\"white\"]\n",
    "# How many colors are there in some_colors now?\n",
    "\n",
    "some_colors = [\"white\"]\n",
    "\n",
    "print(\"\\nd.\")\n",
    "for i in range(len(colors[:int(len(colors)/2)])):\n",
    "    some_colors.append(colors[i].lower())\n",
    "print(f\"There are {len(some_colors)} colors in total: {some_colors}\")\n",
    "\n",
    "# e. Add all the colors of the second half of the list colors to the following list using slicing:\n",
    "# more_colors = [\"purple\"]\n",
    "# How many colors are there in more_colors now? Change them to uppercase.\n",
    "print(\"\\ne.\")\n",
    "more_colors = [\"purple\"]\n",
    "\n",
    "for i in range(len(colors[-int(len(colors)/2):])):\n",
    "    more_colors.append(colors[i+int(len(colors)/2)].upper())\n",
    "print(f\"There are {len(more_colors)} colors in total: {more_colors}\")"
   ],
   "id": "fe3b4405e07f5944",
   "outputs": [
    {
     "name": "stdout",
     "output_type": "stream",
     "text": [
      "a. There are 16 colors in total.\n",
      "\n",
      "b.\n",
      "['yellow', 'beige', 'green', 'RED', 'ultramarine', 'coral', 'LAVENDER', 'silver', 'cyan', 'BLUE', 'black', 'magenta', 'GOLD', 'pink', 'scarlet', 'BROWN']\n",
      "\n",
      "c.\n",
      "['yellow', 'beige', 'green', 'RED', 'Ultramarine', 'coral', 'LAVENDER', 'Silver', 'cyan', 'BLUE', 'Black', 'magenta', 'GOLD', 'Pink', 'scarlet', 'BROWN']\n",
      "\n",
      "d.\n",
      "There are 9 colors in total: ['white', 'yellow', 'beige', 'green', 'red', 'ultramarine', 'coral', 'lavender', 'silver']\n",
      "\n",
      "e.\n",
      "There are 9 colors in total: ['purple', 'CYAN', 'BLUE', 'BLACK', 'MAGENTA', 'GOLD', 'PINK', 'SCARLET', 'BROWN']\n"
     ]
    }
   ],
   "execution_count": 51
  },
  {
   "metadata": {},
   "cell_type": "code",
   "outputs": [],
   "execution_count": null,
   "source": "",
   "id": "5a92f28c45078f6c"
  }
 ],
 "metadata": {
  "kernelspec": {
   "display_name": "Python 3",
   "language": "python",
   "name": "python3"
  },
  "language_info": {
   "codemirror_mode": {
    "name": "ipython",
    "version": 2
   },
   "file_extension": ".py",
   "mimetype": "text/x-python",
   "name": "python",
   "nbconvert_exporter": "python",
   "pygments_lexer": "ipython2",
   "version": "2.7.6"
  }
 },
 "nbformat": 4,
 "nbformat_minor": 5
}
