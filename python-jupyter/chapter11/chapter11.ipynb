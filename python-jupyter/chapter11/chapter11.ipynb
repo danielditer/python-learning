{
 "cells": [
  {
   "cell_type": "code",
   "id": "initial_id",
   "metadata": {
    "collapsed": true,
    "ExecuteTime": {
     "end_time": "2024-04-18T02:44:52.801161Z",
     "start_time": "2024-04-18T02:44:52.795910Z"
    }
   },
   "source": [
    "acronyms = [\"asap\", \"faq\", \"fyi\", \"diy\"]\n",
    "\n",
    "for i in range(len(acronyms)):\n",
    "    acronyms = [\"asap\", \"faq\", \"fyi\", \"diy\"]\n",
    "    acronyms[i] = acronyms[i].upper()\n",
    "    print(acronyms[i])\n",
    "    \n",
    "print('\\n')\n",
    "names = [\"JOHN\", \"geetha\", \"xiao\", \"LAURA\"]\n",
    "for i in range(len(names)):\n",
    "    names[i] = names[i].capitalize()\n",
    "    print(names[i])\n",
    "    "
   ],
   "outputs": [
    {
     "name": "stdout",
     "output_type": "stream",
     "text": [
      "ASAP\n",
      "FAQ\n",
      "FYI\n",
      "DIY\n",
      "\n",
      "\n",
      "John\n",
      "Geetha\n",
      "Xiao\n",
      "Laura\n"
     ]
    }
   ],
   "execution_count": 31
  },
  {
   "metadata": {
    "ExecuteTime": {
     "end_time": "2024-04-18T03:31:00.267370Z",
     "start_time": "2024-04-18T03:31:00.260849Z"
    }
   },
   "cell_type": "code",
   "source": [
    "colors = [\"yellow\", \"beige\", \"green\", \"red\", \"ultramarine\", \"coral\", \"lavender\",\n",
    "\"silver\", \"cyan\", \"blue\", \"black\", \"magenta\", \"gold\", \"pink\", \"scarlet\", \"brown\"]\n",
    "\n",
    "print(f\"a. There are {len(colors)} colors in total.\")\n",
    "\n",
    "print(\"\\nb.\")\n",
    "for i in range(len(colors)):\n",
    "    if (i+1)%3 == 0 :\n",
    "        colors[i+1] = colors[i+1].upper()  \n",
    "print(colors)\n",
    "\n",
    "print(\"\\nc.\")\n",
    "for i in range(len(colors)):\n",
    "    if (i+2)%3 == 0 and i < len(colors)-3:\n",
    "        colors[i+3] = colors[i+3].capitalize()\n",
    "print(colors)\n",
    "\n",
    "# d. Add all the colors of the first half of the list colors to the following list using a for loop,\n",
    "# making sure they are lowercase:\n",
    "# some_colors = [\"white\"]\n",
    "# How many colors are there in some_colors now?\n",
    "\n",
    "some_colors = [\"white\"]\n",
    "\n",
    "print(\"\\nd.\")\n",
    "for i in range(len(colors[:int(len(colors)/2)])):\n",
    "    some_colors.append(colors[i].lower())\n",
    "print(f\"There are {len(some_colors)} colors in total: {some_colors}\")\n",
    "\n",
    "# e. Add all the colors of the second half of the list colors to the following list using slicing:\n",
    "# more_colors = [\"purple\"]\n",
    "# How many colors are there in more_colors now? Change them to uppercase.\n",
    "print(\"\\ne.\")\n",
    "more_colors = [\"purple\"]\n",
    "\n",
    "for i in range(len(colors[-int(len(colors)/2):])):\n",
    "    more_colors.append(colors[i+int(len(colors)/2)].upper())\n",
    "print(f\"There are {len(more_colors)} colors in total: {more_colors}\")"
   ],
   "id": "fe3b4405e07f5944",
   "outputs": [
    {
     "name": "stdout",
     "output_type": "stream",
     "text": [
      "a. There are 16 colors in total.\n",
      "\n",
      "b.\n",
      "['yellow', 'beige', 'green', 'RED', 'ultramarine', 'coral', 'LAVENDER', 'silver', 'cyan', 'BLUE', 'black', 'magenta', 'GOLD', 'pink', 'scarlet', 'BROWN']\n",
      "\n",
      "c.\n",
      "['yellow', 'beige', 'green', 'RED', 'Ultramarine', 'coral', 'LAVENDER', 'Silver', 'cyan', 'BLUE', 'Black', 'magenta', 'GOLD', 'Pink', 'scarlet', 'BROWN']\n",
      "\n",
      "d.\n",
      "There are 9 colors in total: ['white', 'yellow', 'beige', 'green', 'red', 'ultramarine', 'coral', 'lavender', 'silver']\n",
      "\n",
      "e.\n",
      "There are 9 colors in total: ['purple', 'CYAN', 'BLUE', 'BLACK', 'MAGENTA', 'GOLD', 'PINK', 'SCARLET', 'BROWN']\n"
     ]
    }
   ],
   "execution_count": 52
  },
  {
   "metadata": {
    "ExecuteTime": {
     "end_time": "2024-04-18T15:01:50.400658Z",
     "start_time": "2024-04-18T15:01:50.376352Z"
    }
   },
   "cell_type": "code",
   "source": [
    "# 3. Camping. Given the following list:\n",
    "# camping = [\"tent\", \"adventure\", \"boots\", \"hiking\", \"hat\", \"nature\", \"path\", \"lake\",\n",
    "# \"mountain_sports\", \"fire\", \"water bottle\", \"fishing\", \"national park\", \"beach\",\n",
    "# \"compass\", \"forest\", \"trail\", \"sleeping bag\"]\n",
    "# a. How many elements are in there?\n",
    "\n",
    "print(\"\\na.\")\n",
    "camping = [\"tent\", \"adventure\", \"boots\", \"hiking\", \"hat\", \"nature\", \"path\", \"lake\",\n",
    "\"mountain_sports\", \"fire\", \"water bottle\", \"fishing\", \"national park\", \"beach\",\n",
    "\"compass\", \"forest\", \"trail\", \"sleeping bag\"]\n",
    "\n",
    "print(f\"There are {len(camping)} words in total: {camping}\")\n",
    "\n",
    "# b. Get all the words composed of less than (including) 6 letters and add them to the following\n",
    "# list, capitalizing each word:\n",
    "# short_camping = [\"Trip\"]\n",
    "\n",
    "\n",
    "print(\"\\nb.\")\n",
    "short_camping = [\"Trip\"]\n",
    "\n",
    "for word in camping:\n",
    "    if len(word) <= 6:\n",
    "        short_camping.append(word.upper())\n",
    "        \n",
    "print(f\"There are {len(short_camping)} words in total: {short_camping}\")\n",
    "\n",
    "# c. Slice every second word of the list camping starting from the first word (position 0) and\n",
    "# assign them to a new variable called some_camping_words\n",
    "\n",
    "print(\"\\nc.\")\n",
    "\n",
    "some_camping_words = camping[::2]\n",
    "    \n",
    "print(f\"There are {len(some_camping_words)} words in total: {some_camping_words}\")\n",
    "\n",
    "# d. Capitalize each word of the strings in some_camping_words composed of a number of characters\n",
    "# other than 4\n",
    "\n",
    "print(\"\\nd.\")\n",
    "for i in range(len(some_camping_words)):\n",
    "    if len(some_camping_words[i]) != 4:\n",
    "        some_camping_words[i] = some_camping_words[i].capitalize()\n",
    "        \n",
    "print(f\"The capitalized words are: {some_camping_words}\")\n",
    "\n",
    "# e. In some_camping_words, remove the first word (position 0) using a list method\n",
    "\n",
    "print(\"\\ne.\")\n",
    "some_camping_words.pop(0)\n",
    "\n",
    "print(f\"The new some_camping_words list is: {some_camping_words}\")\n",
    "# f. In some_camping_words remove \"path\" using a list method\n",
    "\n",
    "print(\"\\nf.\")\n",
    "some_camping_words.remove(\"path\")\n",
    "\n",
    "print(f\"The new some_camping_words list is: {some_camping_words}\")\n",
    "# g. Are there more words in short_camping or some_camping_words? Use an if/else construct to\n",
    "# print out which list has more words, as well as how many words they contain.\n",
    "print(\"\\ng.\")\n",
    "\n",
    "if len(some_camping_words) > len(short_camping):\n",
    "    print(f\"The list 'some_camping_words' has more words than 'short_camping' with a length of {len(some_camping_words)} \")\n",
    "else:\n",
    "    print(f\"The list 'short_camping' has more words than 'some_camping_words' with a length of {len(short_camping)} \")"
   ],
   "id": "5a92f28c45078f6c",
   "outputs": [
    {
     "name": "stdout",
     "output_type": "stream",
     "text": [
      "\n",
      "a.\n",
      "There are 18 words in total: ['tent', 'adventure', 'boots', 'hiking', 'hat', 'nature', 'path', 'lake', 'mountain_sports', 'fire', 'water bottle', 'fishing', 'national park', 'beach', 'compass', 'forest', 'trail', 'sleeping bag']\n",
      "\n",
      "b.\n",
      "There are 12 words in total: ['Trip', 'TENT', 'BOOTS', 'HIKING', 'HAT', 'NATURE', 'PATH', 'LAKE', 'FIRE', 'BEACH', 'FOREST', 'TRAIL']\n",
      "\n",
      "c.\n",
      "There are 9 words in total: ['tent', 'boots', 'hat', 'path', 'mountain_sports', 'water bottle', 'national park', 'compass', 'trail']\n",
      "\n",
      "d.\n",
      "The capitalized words are: ['tent', 'Boots', 'Hat', 'path', 'Mountain_sports', 'Water bottle', 'National park', 'Compass', 'Trail']\n",
      "\n",
      "e.\n",
      "The new some_camping_words list is: ['Boots', 'Hat', 'path', 'Mountain_sports', 'Water bottle', 'National park', 'Compass', 'Trail']\n",
      "\n",
      "f.\n",
      "The new some_camping_words list is: ['Boots', 'Hat', 'Mountain_sports', 'Water bottle', 'National park', 'Compass', 'Trail']\n",
      "\n",
      "g.\n",
      "The list 'short_camping' has more words than 'some_camping_words' with a length of 12 \n"
     ]
    }
   ],
   "execution_count": 8
  },
  {
   "metadata": {},
   "cell_type": "code",
   "outputs": [],
   "execution_count": null,
   "source": "",
   "id": "d63a07b5ccc7fd8b"
  }
 ],
 "metadata": {
  "kernelspec": {
   "display_name": "Python 3",
   "language": "python",
   "name": "python3"
  },
  "language_info": {
   "codemirror_mode": {
    "name": "ipython",
    "version": 2
   },
   "file_extension": ".py",
   "mimetype": "text/x-python",
   "name": "python",
   "nbconvert_exporter": "python",
   "pygments_lexer": "ipython2",
   "version": "2.7.6"
  }
 },
 "nbformat": 4,
 "nbformat_minor": 5
}
